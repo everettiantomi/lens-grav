{
 "cells": [
  {
   "cell_type": "code",
   "execution_count": 54,
   "metadata": {},
   "outputs": [],
   "source": [
    "import numpy as np\n",
    "import sympy as sp\n",
    "from jupyterthemes import jtplot #These two lines can be skipped if you are not using jupyter themes\n",
    "jtplot.reset()"
   ]
  },
  {
   "cell_type": "code",
   "execution_count": 55,
   "metadata": {},
   "outputs": [],
   "source": [
    "x, y, theta, r, eta, theta_E, psi0_plasma, theta_0 , thetaz, C, B = sp.symbols ('x y theta r eta theta_E psi0_plasma theta_0 thetaz C B')"
   ]
  },
  {
   "cell_type": "code",
   "execution_count": 56,
   "metadata": {},
   "outputs": [],
   "source": [
    "r = sp.sqrt(x**2 + y**2)\n",
    "theta = sp.atan(y/x)\n",
    "psi = theta_E*r*sp.sqrt(1.-eta*sp.cos(2.*theta)) + psi0_plasma*sp.exp( - (sp.sqrt(x**2)/(B*theta_0))**C )*sp.exp(-y**2/thetaz**2)\n"
   ]
  },
  {
   "cell_type": "code",
   "execution_count": 57,
   "metadata": {},
   "outputs": [],
   "source": [
    "dxx = format(sp.diff(sp.diff(psi, x),x))"
   ]
  },
  {
   "cell_type": "code",
   "execution_count": 58,
   "metadata": {},
   "outputs": [
    {
     "data": {
      "text/plain": [
       "'C**2*psi0_plasma*(np.sqrt(x_**2)/(B*theta_0))**(2*C)*np.exp(-y_**2/thetaz**2)*np.exp(-(np.sqrt(x_**2)/(B*theta_0))**C)/x_**2 - C**2*psi0_plasma*(np.sqrt(x_**2)/(B*theta_0))**C*np.exp(-y_**2/thetaz**2)*np.exp(-(np.sqrt(x_**2)/(B*theta_0))**C)/x_**2 + C*psi0_plasma*(np.sqrt(x_**2)/(B*theta_0))**C*np.exp(-y_**2/thetaz**2)*np.exp(-(np.sqrt(x_**2)/(B*theta_0))**C)/x_**2 - 1.0*eta**2*theta_E*y_**2*np.sqrt(x_**2 + y_**2)*np.sin(2.0*np.arctan2(y_/x_))**2/(x_**4*(1 + y_**2/x_**2)**2*(-eta*np.cos(2.0*np.arctan2(y_/x_)) + 1.0)**(3/2)) - 2.0*eta*theta_E*y_*np.sin(2.0*np.arctan2(y_/x_))/(x_*(1 + y_**2/x_**2)*np.sqrt(x_**2 + y_**2)*np.sqrt(-eta*np.cos(2.0*np.arctan2(y_/x_)) + 1.0)) + 2.0*eta*theta_E*y_*np.sqrt(x_**2 + y_**2)*np.sin(2.0*np.arctan2(y_/x_))/(x_**3*(1 + y_**2/x_**2)*np.sqrt(-eta*np.cos(2.0*np.arctan2(y_/x_)) + 1.0)) + 2.0*eta*theta_E*y_**2*np.sqrt(x_**2 + y_**2)*np.cos(2.0*np.arctan2(y_/x_))/(x_**4*(1 + y_**2/x_**2)**2*np.sqrt(-eta*np.cos(2.0*np.arctan2(y_/x_)) + 1.0)) - 2.0*eta*theta_E*y_**3*np.sqrt(x_**2 + y_**2)*np.sin(2.0*np.arctan2(y_/x_))/(x_**5*(1 + y_**2/x_**2)**2*np.sqrt(-eta*np.cos(2.0*np.arctan2(y_/x_)) + 1.0)) - theta_E*x_**2*np.sqrt(-eta*np.cos(2.0*np.arctan2(y_/x_)) + 1.0)/(x_**2 + y_**2)**(3/2) + theta_E*np.sqrt(-eta*np.cos(2.0*np.arctan2(y_/x_)) + 1.0)/np.sqrt(x_**2 + y_**2)'"
      ]
     },
     "execution_count": 58,
     "metadata": {},
     "output_type": "execute_result"
    }
   ],
   "source": [
    "dxx = dxx.replace('sqrt','np.sqrt')\n",
    "dxx = dxx.replace('sin','np.sin')\n",
    "dxx = dxx.replace('cos','np.cos')\n",
    "dxx = dxx.replace('atan','np.arctan2')\n",
    "dxx = dxx.replace('x','x_')\n",
    "dxx = dxx.replace('y','y_')\n",
    "dxx = dxx.replace('ex_p','np.exp')\n",
    "dxx"
   ]
  },
  {
   "cell_type": "code",
   "execution_count": 59,
   "metadata": {},
   "outputs": [
    {
     "data": {
      "text/plain": [
       "'-1.0*eta**2*theta_E*np.sqrt(x_**2 + y_**2)*np.sin(2.0*np.arctan(y_/x_))**2/(x_**2*(1 + y_**2/x_**2)**2*(-eta*np.cos(2.0*np.arctan(y_/x_)) + 1.0)**(3/2)) + 2.0*eta*theta_E*y_*np.sin(2.0*np.arctan(y_/x_))/(x_*(1 + y_**2/x_**2)*np.sqrt(x_**2 + y_**2)*np.sqrt(-eta*np.cos(2.0*np.arctan(y_/x_)) + 1.0)) + 2.0*eta*theta_E*np.sqrt(x_**2 + y_**2)*np.cos(2.0*np.arctan(y_/x_))/(x_**2*(1 + y_**2/x_**2)**2*np.sqrt(-eta*np.cos(2.0*np.arctan(y_/x_)) + 1.0)) - 2.0*eta*theta_E*y_*np.sqrt(x_**2 + y_**2)*np.sin(2.0*np.arctan(y_/x_))/(x_**3*(1 + y_**2/x_**2)**2*np.sqrt(-eta*np.cos(2.0*np.arctan(y_/x_)) + 1.0)) - 2*psi0_plasma*np.exp(-y_**2/thetaz**2)*np.exp(-(np.sqrt(x_**2)/(B*theta_0))**C)/thetaz**2 + 4*psi0_plasma*y_**2*np.exp(-y_**2/thetaz**2)*np.exp(-(np.sqrt(x_**2)/(B*theta_0))**C)/thetaz**4 - theta_E*y_**2*np.sqrt(-eta*np.cos(2.0*np.arctan(y_/x_)) + 1.0)/(x_**2 + y_**2)**(3/2) + theta_E*np.sqrt(-eta*np.cos(2.0*np.arctan(y_/x_)) + 1.0)/np.sqrt(x_**2 + y_**2)'"
      ]
     },
     "execution_count": 59,
     "metadata": {},
     "output_type": "execute_result"
    }
   ],
   "source": [
    "dyy = format(sp.diff(sp.diff(psi, y),y))\n",
    "dyy = dyy.replace('sqrt','np.sqrt')\n",
    "dyy = dyy.replace('sin','np.sin')\n",
    "dyy = dyy.replace('cos','np.cos')\n",
    "dyy = dyy.replace('atan','np.arctan')\n",
    "dyy = dyy.replace('x','x_')\n",
    "dyy = dyy.replace('y','y_')\n",
    "dyy = dyy.replace('ex_p','np.exp')\n",
    "dyy"
   ]
  },
  {
   "cell_type": "code",
   "execution_count": 60,
   "metadata": {},
   "outputs": [
    {
     "data": {
      "text/plain": [
       "'2*C*psi0_plasma*y_*(np.sqrt(x_**2)/(B*theta_0))**C*np.exp(-y_**2/thetaz**2)*np.exp(-(np.sqrt(x_**2)/(B*theta_0))**C)/(thetaz**2*x_) + 1.0*eta**2*theta_E*y_*np.sqrt(x_**2 + y_**2)*np.sin(2.0*np.arctan2(y_/x_))**2/(x_**3*(1 + y_**2/x_**2)**2*(-eta*np.cos(2.0*np.arctan2(y_/x_)) + 1.0)**(3/2)) + 1.0*eta*theta_E*np.sin(2.0*np.arctan2(y_/x_))/((1 + y_**2/x_**2)*np.sqrt(x_**2 + y_**2)*np.sqrt(-eta*np.cos(2.0*np.arctan2(y_/x_)) + 1.0)) - 1.0*eta*theta_E*y_**2*np.sin(2.0*np.arctan2(y_/x_))/(x_**2*(1 + y_**2/x_**2)*np.sqrt(x_**2 + y_**2)*np.sqrt(-eta*np.cos(2.0*np.arctan2(y_/x_)) + 1.0)) - 1.0*eta*theta_E*np.sqrt(x_**2 + y_**2)*np.sin(2.0*np.arctan2(y_/x_))/(x_**2*(1 + y_**2/x_**2)*np.sqrt(-eta*np.cos(2.0*np.arctan2(y_/x_)) + 1.0)) - 2.0*eta*theta_E*y_*np.sqrt(x_**2 + y_**2)*np.cos(2.0*np.arctan2(y_/x_))/(x_**3*(1 + y_**2/x_**2)**2*np.sqrt(-eta*np.cos(2.0*np.arctan2(y_/x_)) + 1.0)) + 2.0*eta*theta_E*y_**2*np.sqrt(x_**2 + y_**2)*np.sin(2.0*np.arctan2(y_/x_))/(x_**4*(1 + y_**2/x_**2)**2*np.sqrt(-eta*np.cos(2.0*np.arctan2(y_/x_)) + 1.0)) - theta_E*x_*y_*np.sqrt(-eta*np.cos(2.0*np.arctan2(y_/x_)) + 1.0)/(x_**2 + y_**2)**(3/2)'"
      ]
     },
     "execution_count": 60,
     "metadata": {},
     "output_type": "execute_result"
    }
   ],
   "source": [
    "dxy = format(sp.diff(sp.diff(psi, x),y))\n",
    "dxy = dxy.replace('sqrt','np.sqrt')\n",
    "dxy = dxy.replace('sin','np.sin')\n",
    "dxy = dxy.replace('cos','np.cos')\n",
    "dxy = dxy.replace('atan','np.arctan2')\n",
    "dxy = dxy.replace('x','x_')\n",
    "dxy = dxy.replace('y','y_')\n",
    "dxy = dxy.replace('ex_p','np.exp')\n",
    "dxy"
   ]
  },
  {
   "cell_type": "code",
   "execution_count": null,
   "metadata": {},
   "outputs": [],
   "source": []
  }
 ],
 "metadata": {
  "kernelspec": {
   "display_name": "Python 3",
   "language": "python",
   "name": "python3"
  },
  "language_info": {
   "codemirror_mode": {
    "name": "ipython",
    "version": 3
   },
   "file_extension": ".py",
   "mimetype": "text/x-python",
   "name": "python",
   "nbconvert_exporter": "python",
   "pygments_lexer": "ipython3",
   "version": "3.8.5"
  }
 },
 "nbformat": 4,
 "nbformat_minor": 4
}
