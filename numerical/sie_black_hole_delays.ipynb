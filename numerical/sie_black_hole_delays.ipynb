{
 "cells": [
  {
   "cell_type": "code",
   "execution_count": 1,
   "metadata": {},
   "outputs": [],
   "source": [
    "import numpy as np\n",
    "import matplotlib.pyplot as plt\n",
    "from astropy import units as u\n",
    "from astropy import constants as const\n",
    "import matplotlib as mpl\n",
    "from jupyterthemes import jtplot #These two lines can be skipped if you are not using jupyter themes\n",
    "jtplot.reset()\n",
    "\n",
    "from astropy.cosmology import FlatLambdaCDM\n",
    "cosmo = FlatLambdaCDM(H0=67.4, Om0=0.314)\n",
    "import scipy as sp\n",
    "import multiprocessing as mp\n",
    "\n",
    "\n",
    "import time\n",
    "start_total = time.time()"
   ]
  },
  {
   "cell_type": "code",
   "execution_count": 2,
   "metadata": {},
   "outputs": [],
   "source": [
    "import os\n",
    "my_path = '/home/tomi/Documentos/Fisica/Tesis/escrito-tesis/images/'"
   ]
  },
  {
   "cell_type": "code",
   "execution_count": 3,
   "metadata": {},
   "outputs": [],
   "source": [
    "from lenstronomy.LensModel.lens_model import LensModel\n",
    "from lenstronomy.LensModel.lens_model_extensions import LensModelExtensions\n",
    "from lenstronomy.LensModel.Solver.lens_equation_solver import LensEquationSolver"
   ]
  },
  {
   "cell_type": "code",
   "execution_count": 4,
   "metadata": {},
   "outputs": [
    {
     "name": "stdout",
     "output_type": "stream",
     "text": [
      "scale radius (m):  7.705329461274929e+19 m\n",
      "scale radius (kpc):  2.49712721364453 kpc\n",
      "theta_E:  0.7301786792241515 arcsec\n",
      "Classic electron radius:  2.817940324670788e-15 m\n"
     ]
    }
   ],
   "source": [
    "zl = 0.2; zs = 1.2\n",
    "Dl = cosmo.angular_diameter_distance(zl)   \n",
    "Ds = cosmo.angular_diameter_distance(zs)    \n",
    "Dls = cosmo.angular_diameter_distance_z1z2(zl, zs)\n",
    "G = const.G\n",
    "rho_crit = (cosmo.critical_density(zl)).to(u.kg/u.m**3)\n",
    "c_light = (const.c).to(u.cm/u.second)\n",
    "\n",
    "#r0 = 10*u.kpc\n",
    "r0 = 10.0*u.kpc\n",
    "#r0 = 0.1*u.kpc\n",
    "pi = np.pi\n",
    "\n",
    "def scale_radius(v,Dl,Ds,Dls):                               #this is e0 in eq 3.42 meneghetti, eq 1 barnacka 2014\n",
    "    return (4.*pi*v**2/c_light**2*Dl*Dls/Ds).decompose()\n",
    "def theta_E_SIS():\n",
    "    'in arcsec'\n",
    "    pre_theta_E = (scale_radius(v,Dl,Ds,Dls)/Dl).decompose()\n",
    "    return pre_theta_E*u.rad.to('arcsec', equivalencies=u.dimensionless_angles()) \n",
    "\n",
    "v = 180 *u.km/u.s\n",
    "ss_r = scale_radius(v,Dl,Ds,Dls) \n",
    "print('scale radius (m): ',ss_r)\n",
    "print('scale radius (kpc): ',ss_r.to(u.kpc))\n",
    "print('theta_E: ',theta_E_SIS() ,'arcsec')\n",
    "theta_E_num = theta_E_SIS()\n",
    "elipt = 0.3\n",
    "re = (const.e.esu**2/const.m_e/(c_light**2)).decompose()\n",
    "print('Classic electron radius: ',re)"
   ]
  },
  {
   "cell_type": "markdown",
   "metadata": {},
   "source": [
    "The lensing potential by a point mass is given by \n",
    "\n",
    "$$\n",
    "\\psi = \\frac{4GM}{c^2} \\frac{D_{ls}}{D_l D_s} ln |\\vec{\\theta}|\n",
    "$$\n",
    "\n",
    "In terms of the Einstein radius\n",
    "\n",
    "$$\n",
    "\\theta_{e_1} = \\sqrt{\\frac{4GM}{c^2} \\frac{D_{ls}}{D_l D_s}} \\\\\n",
    "\\psi = \\theta_{e_1}^2 ln |\\vec{\\theta}|\n",
    "$$\n",
    "\n",
    "Lets start with \n",
    "\n",
    "$$\n",
    "M_1 = 10^3 M_\\odot \\\\\n",
    "M_2 = 10^4 M_\\odot \\\\\n",
    "M_3 = 10^5 M_\\odot \\\\\n",
    "M_4 = 10^6 M_\\odot \\\\\n",
    "M_5 = 10^8 M_\\odot \n",
    "$$"
   ]
  },
  {
   "cell_type": "markdown",
   "metadata": {},
   "source": [
    "The mass of the main lens is \n",
    "\n",
    "$$\n",
    "M(\\theta_e) =  \\theta_e^2 \\frac{c^2}{4G} \\frac{D_l D_s}{D_{ls}}\n",
    "$$"
   ]
  },
  {
   "cell_type": "code",
   "execution_count": 5,
   "metadata": {},
   "outputs": [
    {
     "data": {
      "text/latex": [
       "$5.9096441 \\times 10^{10} \\; \\mathrm{}$"
      ],
      "text/plain": [
       "<Quantity 5.90964413e+10>"
      ]
     },
     "execution_count": 5,
     "metadata": {},
     "output_type": "execute_result"
    }
   ],
   "source": [
    "M_e = (theta_E_num*u.arcsec)**2 * c_light**2 /4 / G * Dl * Ds / Dls\n",
    "M_e = (M_e/(u.rad)**2).decompose()\n",
    "ms = 1.98847e30*u.kg\n",
    "M_e/ms"
   ]
  },
  {
   "cell_type": "markdown",
   "metadata": {},
   "source": [
    "$$\n",
    "M(0.73 \\mathrm{arcsec}) =  5.91\\cdot 10^{10} M_\\odot\n",
    "$$"
   ]
  },
  {
   "cell_type": "code",
   "execution_count": 6,
   "metadata": {},
   "outputs": [],
   "source": [
    "ms = 1.98847e30*u.kg  #solar mass\n",
    "m1 = ms*1e3\n",
    "m2 = ms*1e4\n",
    "m3 = ms*1e5\n",
    "m4 = ms*1e6\n",
    "m5 = ms*1e8"
   ]
  },
  {
   "cell_type": "code",
   "execution_count": 7,
   "metadata": {},
   "outputs": [
    {
     "data": {
      "text/plain": [
       "9.498356879908454e-05"
      ]
     },
     "execution_count": 7,
     "metadata": {},
     "output_type": "execute_result"
    }
   ],
   "source": [
    "theta_E_1 = np.sqrt(4*G*m1/c_light**2*Dls/Dl/Ds)\n",
    "theta_E_1 = theta_E_1.decompose()*u.rad.to('arcsec', equivalencies=u.dimensionless_angles()) \n",
    "theta_E_1.value"
   ]
  },
  {
   "cell_type": "code",
   "execution_count": 8,
   "metadata": {},
   "outputs": [
    {
     "data": {
      "text/plain": [
       "0.0003003644176964114"
      ]
     },
     "execution_count": 8,
     "metadata": {},
     "output_type": "execute_result"
    }
   ],
   "source": [
    "theta_E_2 = np.sqrt(4*G*m2/c_light**2*Dls/Dl/Ds)\n",
    "theta_E_2 = theta_E_2.decompose()*u.rad.to('arcsec', equivalencies=u.dimensionless_angles()) \n",
    "theta_E_2.value"
   ]
  },
  {
   "cell_type": "code",
   "execution_count": 9,
   "metadata": {},
   "outputs": [
    {
     "data": {
      "text/plain": [
       "0.0009498356879908454"
      ]
     },
     "execution_count": 9,
     "metadata": {},
     "output_type": "execute_result"
    }
   ],
   "source": [
    "theta_E_3 = np.sqrt(4*G*m3/c_light**2*Dls/Dl/Ds)\n",
    "theta_E_3 = theta_E_3.decompose()*u.rad.to('arcsec', equivalencies=u.dimensionless_angles()) \n",
    "theta_E_3.value"
   ]
  },
  {
   "cell_type": "code",
   "execution_count": 10,
   "metadata": {},
   "outputs": [
    {
     "data": {
      "text/plain": [
       "0.0030036441769641137"
      ]
     },
     "execution_count": 10,
     "metadata": {},
     "output_type": "execute_result"
    }
   ],
   "source": [
    "theta_E_4 = np.sqrt(4*G*m4/c_light**2*Dls/Dl/Ds)\n",
    "theta_E_4 = theta_E_4.decompose()*u.rad.to('arcsec', equivalencies=u.dimensionless_angles()) \n",
    "theta_E_4.value"
   ]
  },
  {
   "cell_type": "code",
   "execution_count": 11,
   "metadata": {},
   "outputs": [
    {
     "data": {
      "text/plain": [
       "0.030036441769641136"
      ]
     },
     "execution_count": 11,
     "metadata": {},
     "output_type": "execute_result"
    }
   ],
   "source": [
    "theta_E_5 = np.sqrt(4*G*m5/c_light**2*Dls/Dl/Ds)\n",
    "theta_E_5 = theta_E_5.decompose()*u.rad.to('arcsec', equivalencies=u.dimensionless_angles()) \n",
    "theta_E_5.value"
   ]
  },
  {
   "cell_type": "markdown",
   "metadata": {},
   "source": [
    "### Two black holes of $ M_4 = 10^6 M_\\odot$"
   ]
  },
  {
   "cell_type": "code",
   "execution_count": 44,
   "metadata": {},
   "outputs": [],
   "source": [
    "x1 = -0.26631755 + 2e-3\n",
    "y1 = -0.26631755 \n",
    "\n",
    "x0 = y0 = - 0.26631755\n",
    "b1x = -3.5e-3 + x0 ; b1y = -2e-3 + y0\n",
    "b2x = 0 + x0 ; b2y = -1.5e-3 + y0\n",
    "b3x = 3.5e-3 + x0 ; b3y = 2.5e-3 + y0"
   ]
  },
  {
   "cell_type": "code",
   "execution_count": 45,
   "metadata": {},
   "outputs": [],
   "source": [
    "x2 = -0.26631755 - 2e-3\n",
    "y2 = -0.26631755 - 4e-3"
   ]
  },
  {
   "cell_type": "code",
   "execution_count": 46,
   "metadata": {},
   "outputs": [],
   "source": [
    "lens_model_list = ['SIEBH2']\n",
    "lensModel = LensModel(lens_model_list)\n",
    "lensEquationSolver = LensEquationSolver(lensModel)"
   ]
  },
  {
   "cell_type": "code",
   "execution_count": 47,
   "metadata": {},
   "outputs": [],
   "source": [
    "kwargs = {'theta_E':theta_E_num.value,'eta':0*elipt, 'theta_E_1':theta_E_4.value, 'x1':x1, 'y1':y1, 'theta_E_2':theta_E_4.value, 'x2':x2, 'y2':y2}\n",
    "kwargs_lens_list = [kwargs]"
   ]
  },
  {
   "cell_type": "code",
   "execution_count": 55,
   "metadata": {},
   "outputs": [
    {
     "name": "stdout",
     "output_type": "stream",
     "text": [
      "-8.105748056903394\n",
      "-3.967594036250375\n",
      "-4.138154020653019\n",
      "-21792.710728007325\n",
      "-21796.848882027978\n",
      "-21800.81647606423\n"
     ]
    }
   ],
   "source": [
    "from lenstronomy.LensModel.Profiles.sie_black_hole_2 import SIEBH2\n",
    "perfil = SIEBH2()\n",
    "\n",
    "t = [0,0,0,0]\n",
    "phi = [0,0,0,0]\n",
    "\n",
    "phi[1] = SIEBH2.function(perfil, b1x, b1y, theta_E_num.value, 0*elipt, theta_E_4.value, x1, y1, theta_E_4.value, x2, y2)\n",
    "t[1] = ((1+zl)/c_light*Ds*Dl/Dls*( 1/2*( (.25 - b1x )**2 + (.25 - b1y)**2) - phi[1])*(u.arcsec**2).to('rad**2')).to('s').value\n",
    "\n",
    "phi[2] = SIEBH2.function(perfil, b2x, b2y, theta_E_num.value, 0*elipt, theta_E_4.value, x1, y1, theta_E_4.value, x2, y2)\n",
    "t[2] = ((1+zl)/c_light*Ds*Dl/Dls*( 1/2*( (.25 - b2x )**2 + (.25 - b2y)**2) - phi[2])*(u.arcsec**2).to('rad**2')).to('s').value\n",
    "\n",
    "phi[3] = SIEBH2.function(perfil, b3x, b3y, theta_E_num.value, 0*elipt, theta_E_4.value, x1, y1, theta_E_4.value, x2, y2)\n",
    "t[3] = ((1+zl)/c_light*Ds*Dl/Dls*( 1/2*( (.25 - b3x )**2 + (.25 - b3y)**2) - phi[3])*(u.arcsec**2).to('rad**2')).to('s').value\n",
    "\n",
    "\n",
    "\n",
    "print(t[3] - t[1])\n",
    "print(t[3] - t[2])\n",
    "print(t[2] - t[1])"
   ]
  },
  {
   "cell_type": "code",
   "execution_count": 49,
   "metadata": {},
   "outputs": [
    {
     "name": "stdout",
     "output_type": "stream",
     "text": [
      "-15557.484019854921\n",
      "-10126.815301985247\n",
      "-5430.668717869674\n"
     ]
    }
   ],
   "source": [
    "phi[1] = SIEBH2.function(perfil, b1x, b1y, theta_E_num.value, 0*elipt, theta_E_4.value, x1, y1, theta_E_4.value, x2, y2)\n",
    "t[1] = ((1+zl)/c_light*Ds*Dl/Dls*( 1/2*( (.25 - b1x )**2 + (.25 - b1y)**2) - phi[1]*0)*(u.arcsec**2).to('rad**2')).to('s').value\n",
    "\n",
    "phi[2] = SIEBH2.function(perfil, b2x, b2y, theta_E_num.value, 0*elipt, theta_E_4.value, x1, y1, theta_E_4.value, x2, y2)\n",
    "t[2] = ((1+zl)/c_light*Ds*Dl/Dls*( 1/2*( (.25 - b2x )**2 + (.25 - b2y)**2) - phi[2]*0)*(u.arcsec**2).to('rad**2')).to('s').value\n",
    "\n",
    "phi[3] = SIEBH2.function(perfil, b3x, b3y, theta_E_num.value, 0*elipt, theta_E_4.value, x1, y1, theta_E_4.value, x2, y2)\n",
    "t[3] = ((1+zl)/c_light*Ds*Dl/Dls*( 1/2*( (.25 - b3x )**2 + (.25 - b3y)**2) - phi[3]*0)*(u.arcsec**2).to('rad**2')).to('s').value\n",
    "\n",
    "\n",
    "print(t[3] - t[1])\n",
    "print(t[3] - t[2])\n",
    "print(t[2] - t[1])"
   ]
  },
  {
   "cell_type": "code",
   "execution_count": 50,
   "metadata": {},
   "outputs": [
    {
     "name": "stdout",
     "output_type": "stream",
     "text": [
      "15549.378271797788\n",
      "10122.84770794888\n",
      "5426.530563848908\n"
     ]
    }
   ],
   "source": [
    "phi[1] = SIEBH2.function(perfil, b1x, b1y, theta_E_num.value, 0*elipt, theta_E_4.value, x1, y1, theta_E_4.value, x2, y2)\n",
    "t[1] = ((1+zl)/c_light*Ds*Dl/Dls*( 0*1/2*( (.25 - b1x )**2 + (.25 - b1y)**2) - phi[1])*(u.arcsec**2).to('rad**2')).to('s').value\n",
    "\n",
    "phi[2] = SIEBH2.function(perfil, b2x, b2y, theta_E_num.value, 0*elipt, theta_E_4.value, x1, y1, theta_E_4.value, x2, y2)\n",
    "t[2] = ((1+zl)/c_light*Ds*Dl/Dls*( 0*1/2*( (.25 - b2x )**2 + (.25 - b2y)**2) - phi[2])*(u.arcsec**2).to('rad**2')).to('s').value\n",
    "\n",
    "phi[3] = SIEBH2.function(perfil, b3x, b3y, theta_E_num.value, 0*elipt, theta_E_4.value, x1, y1, theta_E_4.value, x2, y2)\n",
    "t[3] = ((1+zl)/c_light*Ds*Dl/Dls*( 0*1/2*( (.25 - b3x )**2 + (.25 - b3y)**2) - phi[3])*(u.arcsec**2).to('rad**2')).to('s').value\n",
    "\n",
    "\n",
    "print(t[3] - t[1])\n",
    "print(t[3] - t[2])\n",
    "print(t[2] - t[1])"
   ]
  },
  {
   "cell_type": "markdown",
   "metadata": {},
   "source": [
    "# massless black holes"
   ]
  },
  {
   "cell_type": "code",
   "execution_count": 51,
   "metadata": {},
   "outputs": [
    {
     "name": "stdout",
     "output_type": "stream",
     "text": [
      "4.394162934288033\n",
      "22.793922406694037\n",
      "-18.399759472406004\n"
     ]
    }
   ],
   "source": [
    "from lenstronomy.LensModel.Profiles.sie_black_hole_2 import SIEBH2\n",
    "perfil = SIEBH2()\n",
    "\n",
    "t = [0,0,0,0]\n",
    "phi = [0,0,0,0]\n",
    "\n",
    "phi[1] = SIEBH2.function(perfil, b1x, b1y, theta_E_num.value, 0*elipt, 0*theta_E_4.value, x1, y1, 0*theta_E_4.value, x2, y2)\n",
    "t[1] = ((1+zl)/c_light*Ds*Dl/Dls*( 1/2*( (.25 - b1x )**2 + (.25 - b1y)**2) - phi[1])*(u.arcsec**2).to('rad**2')).to('s').value\n",
    "\n",
    "phi[2] = SIEBH2.function(perfil, b2x, b2y, theta_E_num.value, 0*elipt, 0*theta_E_4.value, x1, y1, 0*theta_E_4.value, x2, y2)\n",
    "t[2] = ((1+zl)/c_light*Ds*Dl/Dls*( 1/2*( (.25 - b2x )**2 + (.25 - b2y)**2) - phi[2])*(u.arcsec**2).to('rad**2')).to('s').value\n",
    "\n",
    "phi[3] = SIEBH2.function(perfil, b3x, b3y, theta_E_num.value, 0*elipt, 0*theta_E_4.value, x1, y1, 0*theta_E_4.value, x2, y2)\n",
    "t[3] = ((1+zl)/c_light*Ds*Dl/Dls*( 1/2*( (.25 - b3x )**2 + (.25 - b3y)**2) - phi[3])*(u.arcsec**2).to('rad**2')).to('s').value\n",
    "\n",
    "\n",
    "\n",
    "print(t[3] - t[1])\n",
    "print(t[3] - t[2])\n",
    "print(t[2] - t[1])"
   ]
  },
  {
   "cell_type": "code",
   "execution_count": 52,
   "metadata": {},
   "outputs": [
    {
     "name": "stdout",
     "output_type": "stream",
     "text": [
      "-15557.484019854921\n",
      "-10126.815301985247\n",
      "-5430.668717869674\n"
     ]
    }
   ],
   "source": [
    "phi[1] = SIEBH2.function(perfil, b1x, b1y, theta_E_num.value, 0*elipt, 0*theta_E_4.value, x1, y1, 0*theta_E_4.value, x2, y2)\n",
    "t[1] = ((1+zl)/c_light*Ds*Dl/Dls*( 1/2*( (.25 - b1x )**2 + (.25 - b1y)**2) - phi[1]*0)*(u.arcsec**2).to('rad**2')).to('s').value\n",
    "\n",
    "phi[2] = SIEBH2.function(perfil, b2x, b2y, theta_E_num.value, 0*elipt, 0*theta_E_4.value, x1, y1, 0*theta_E_4.value, x2, y2)\n",
    "t[2] = ((1+zl)/c_light*Ds*Dl/Dls*( 1/2*( (.25 - b2x )**2 + (.25 - b2y)**2) - phi[2]*0)*(u.arcsec**2).to('rad**2')).to('s').value\n",
    "\n",
    "phi[3] = SIEBH2.function(perfil, b3x, b3y, theta_E_num.value, 0*elipt, 0*theta_E_4.value, x1, y1, 0*theta_E_4.value, x2, y2)\n",
    "t[3] = ((1+zl)/c_light*Ds*Dl/Dls*( 1/2*( (.25 - b3x )**2 + (.25 - b3y)**2) - phi[3]*0)*(u.arcsec**2).to('rad**2')).to('s').value\n",
    "\n",
    "\n",
    "print(t[3] - t[1])\n",
    "print(t[3] - t[2])\n",
    "print(t[2] - t[1])"
   ]
  },
  {
   "cell_type": "code",
   "execution_count": 53,
   "metadata": {},
   "outputs": [
    {
     "name": "stdout",
     "output_type": "stream",
     "text": [
      "15561.878182789194\n",
      "10149.609224391985\n",
      "5412.26895839721\n"
     ]
    }
   ],
   "source": [
    "phi[1] = SIEBH2.function(perfil, b1x, b1y, theta_E_num.value, 0*elipt, 0*theta_E_4.value, x1, y1, 0*theta_E_4.value, x2, y2)\n",
    "t[1] = ((1+zl)/c_light*Ds*Dl/Dls*( 0*1/2*( (.25 - b1x )**2 + (.25 - b1y)**2) - phi[1])*(u.arcsec**2).to('rad**2')).to('s').value\n",
    "\n",
    "phi[2] = SIEBH2.function(perfil, b2x, b2y, theta_E_num.value, 0*elipt, 0*theta_E_4.value, x1, y1, 0*theta_E_4.value, x2, y2)\n",
    "t[2] = ((1+zl)/c_light*Ds*Dl/Dls*( 0*1/2*( (.25 - b2x )**2 + (.25 - b2y)**2) - phi[2])*(u.arcsec**2).to('rad**2')).to('s').value\n",
    "\n",
    "phi[3] = SIEBH2.function(perfil, b3x, b3y, theta_E_num.value, 0*elipt, 0*theta_E_4.value, x1, y1, 0*theta_E_4.value, x2, y2)\n",
    "t[3] = ((1+zl)/c_light*Ds*Dl/Dls*( 0*1/2*( (.25 - b3x )**2 + (.25 - b3y)**2) - phi[3])*(u.arcsec**2).to('rad**2')).to('s').value\n",
    "\n",
    "\n",
    "print(t[3] - t[1])\n",
    "print(t[3] - t[2])\n",
    "print(t[2] - t[1])"
   ]
  },
  {
   "cell_type": "code",
   "execution_count": null,
   "metadata": {},
   "outputs": [],
   "source": []
  },
  {
   "cell_type": "code",
   "execution_count": null,
   "metadata": {},
   "outputs": [],
   "source": []
  },
  {
   "cell_type": "code",
   "execution_count": null,
   "metadata": {},
   "outputs": [],
   "source": []
  },
  {
   "cell_type": "code",
   "execution_count": null,
   "metadata": {},
   "outputs": [],
   "source": []
  },
  {
   "cell_type": "code",
   "execution_count": null,
   "metadata": {},
   "outputs": [],
   "source": []
  },
  {
   "cell_type": "code",
   "execution_count": null,
   "metadata": {},
   "outputs": [],
   "source": []
  },
  {
   "cell_type": "code",
   "execution_count": null,
   "metadata": {},
   "outputs": [],
   "source": []
  },
  {
   "cell_type": "code",
   "execution_count": null,
   "metadata": {},
   "outputs": [],
   "source": []
  },
  {
   "cell_type": "code",
   "execution_count": null,
   "metadata": {},
   "outputs": [],
   "source": []
  },
  {
   "cell_type": "code",
   "execution_count": null,
   "metadata": {},
   "outputs": [],
   "source": []
  },
  {
   "cell_type": "code",
   "execution_count": null,
   "metadata": {},
   "outputs": [],
   "source": []
  },
  {
   "cell_type": "markdown",
   "metadata": {},
   "source": [
    "### $ M_1 = 10^3 M_\\odot$"
   ]
  },
  {
   "cell_type": "code",
   "execution_count": 56,
   "metadata": {},
   "outputs": [],
   "source": [
    "x1 = -0.06630 - .05e-3\n",
    "y1 = -0.0662868 \n",
    "x2 = -0.06630 + .05e-3\n",
    "y2 = -0.0662868 "
   ]
  },
  {
   "cell_type": "code",
   "execution_count": 57,
   "metadata": {},
   "outputs": [],
   "source": [
    "lens_model_list = ['SIEBH2']\n",
    "lensModel = LensModel(lens_model_list)\n",
    "lensEquationSolver = LensEquationSolver(lensModel)"
   ]
  },
  {
   "cell_type": "code",
   "execution_count": 58,
   "metadata": {},
   "outputs": [],
   "source": [
    "kwargs = {'theta_E':theta_E_num.value,'eta':0*elipt, 'theta_E_1':theta_E_1.value, 'x1':x1, 'y1':y1, 'theta_E_2':theta_E_1.value, 'x2':x2, 'y2':y2}\n",
    "kwargs_lens_list = [kwargs]"
   ]
  },
  {
   "cell_type": "code",
   "execution_count": 59,
   "metadata": {},
   "outputs": [],
   "source": [
    "x0 = -.0662968\n",
    "y0 = -.0663026\n",
    "#blobs position\n",
    "b1x = x0 - -.1e-3 ; b1y = y0 - -.1e-3\n",
    "b2x = x0 - .1e-3 ; b2y = y0 - .1e-3"
   ]
  },
  {
   "cell_type": "code",
   "execution_count": 60,
   "metadata": {},
   "outputs": [
    {
     "name": "stdout",
     "output_type": "stream",
     "text": [
      "216.6083137965179\n"
     ]
    }
   ],
   "source": [
    "from lenstronomy.LensModel.Profiles.sie_black_hole_2 import SIEBH2\n",
    "perfil = SIEBH2()\n",
    "\n",
    "t_ = [0,0]\n",
    "phi = [0,0]\n",
    "\n",
    "phi[0] = SIEBH2.function(perfil, b1x, b1y, theta_E_num.value, 0*elipt, theta_E_4.value, x1, y1, theta_E_4.value, x2, y2)\n",
    "t_[0] = ((1+zl)/c_light*Ds*Dl/Dls*( 1/2*( (.25 - b1x )**2 + (.25 - b1y)**2) - phi[0])*(u.arcsec**2).to('rad**2')).to('s').value\n",
    "\n",
    "phi[1] = SIEBH2.function(perfil, b2x, b2y, theta_E_num.value, 0*elipt, theta_E_4.value, x1, y1, theta_E_4.value, x2, y2)\n",
    "t_[1] = ((1+zl)/c_light*Ds*Dl/Dls*( 1/2*( (.25 - b2x )**2 + (.25 - b2y)**2) - phi[1])*(u.arcsec**2).to('rad**2')).to('s').value\n",
    "\n",
    "\n",
    "print(t_[0] - t_[1])"
   ]
  },
  {
   "cell_type": "code",
   "execution_count": 42,
   "metadata": {},
   "outputs": [
    {
     "name": "stdout",
     "output_type": "stream",
     "text": [
      "-331.5627250271791\n"
     ]
    }
   ],
   "source": [
    "t_ = [0,0]\n",
    "phi = [0,0]\n",
    "\n",
    "phi[0] = SIEBH2.function(perfil, b1x, b1y, theta_E_num.value, 0*elipt, theta_E_4.value, x1, y1, theta_E_4.value, x2, y2)\n",
    "t_[0] = ((1+zl)/c_light*Ds*Dl/Dls*( 1/2*( (.25 - b1x )**2 + (.25 - b1y)**2) - phi[0]*0)*(u.arcsec**2).to('rad**2')).to('s').value\n",
    "\n",
    "phi[1] = SIEBH2.function(perfil, b2x, b2y, theta_E_num.value, 0*elipt, theta_E_4.value, x1, y1, theta_E_4.value, x2, y2)\n",
    "t_[1] = ((1+zl)/c_light*Ds*Dl/Dls*( 1/2*( (.25 - b2x )**2 + (.25 - b2y)**2) - phi[1]*0)*(u.arcsec**2).to('rad**2')).to('s').value\n",
    "\n",
    "\n",
    "print(t_[0] - t_[1])"
   ]
  },
  {
   "cell_type": "code",
   "execution_count": 43,
   "metadata": {},
   "outputs": [
    {
     "name": "stdout",
     "output_type": "stream",
     "text": [
      "548.1710388237261\n"
     ]
    }
   ],
   "source": [
    "t_ = [0,0]\n",
    "phi = [0,0]\n",
    "\n",
    "phi[0] = SIEBH2.function(perfil, b1x, b1y, theta_E_num.value, 0*elipt, theta_E_4.value, x1, y1, theta_E_4.value, x2, y2)\n",
    "t_[0] = ((1+zl)/c_light*Ds*Dl/Dls*( 0*1/2*( (.25 - b1x )**2 + (.25 - b1y)**2) - phi[0])*(u.arcsec**2).to('rad**2')).to('s').value\n",
    "\n",
    "phi[1] = SIEBH2.function(perfil, b2x, b2y, theta_E_num.value, 0*elipt, theta_E_4.value, x1, y1, theta_E_4.value, x2, y2)\n",
    "t_[1] = ((1+zl)/c_light*Ds*Dl/Dls*( 0*1/2*( (.25 - b2x )**2 + (.25 - b2y)**2) - phi[1])*(u.arcsec**2).to('rad**2')).to('s').value\n",
    "\n",
    "\n",
    "print(t_[0] - t_[1])"
   ]
  },
  {
   "cell_type": "code",
   "execution_count": null,
   "metadata": {},
   "outputs": [],
   "source": [
    "end_total = time.time()\n",
    "print('total time: ',(end_total-start_total)/60.,' minutes')"
   ]
  },
  {
   "cell_type": "code",
   "execution_count": null,
   "metadata": {},
   "outputs": [],
   "source": []
  }
 ],
 "metadata": {
  "kernelspec": {
   "display_name": "Python 3",
   "language": "python",
   "name": "python3"
  },
  "language_info": {
   "codemirror_mode": {
    "name": "ipython",
    "version": 3
   },
   "file_extension": ".py",
   "mimetype": "text/x-python",
   "name": "python",
   "nbconvert_exporter": "python",
   "pygments_lexer": "ipython3",
   "version": "3.8.8"
  }
 },
 "nbformat": 4,
 "nbformat_minor": 4
}
