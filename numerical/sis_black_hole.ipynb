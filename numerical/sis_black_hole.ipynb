{
 "cells": [
  {
   "cell_type": "code",
   "execution_count": 1,
   "metadata": {},
   "outputs": [],
   "source": [
    "import numpy as np\n",
    "import matplotlib.pyplot as plt\n",
    "import mpmath as mp\n",
    "from scipy.optimize import curve_fit\n",
    "from astropy import units as u\n",
    "from astropy import constants as const\n",
    "from jupyterthemes import jtplot #These two lines can be skipped if you are not using jupyter themes\n",
    "jtplot.reset()"
   ]
  },
  {
   "cell_type": "code",
   "execution_count": 2,
   "metadata": {},
   "outputs": [],
   "source": [
    "r0 = 10.0*u.kpc\n",
    "z0 = 1.*u.kpc\n",
    "n0 = 300./(u.cm)**(3)\n",
    "#n0 = 300./(u.cm)**(3)\n",
    "Dl = 705.4019455128785*u.Mpc\n",
    "Ds = 1760.3796178766652*u.Mpc\n",
    "Dls = 1375.6149203241862*u.Mpc\n",
    "elipt = .3"
   ]
  },
  {
   "cell_type": "code",
   "execution_count": 4,
   "metadata": {},
   "outputs": [],
   "source": [
    "import time\n",
    "start_total = time.time()\n",
    "from astropy.cosmology import FlatLambdaCDM\n",
    "cosmo = FlatLambdaCDM(H0=67.4, Om0=0.314)\n",
    "import scipy as sp"
   ]
  },
  {
   "cell_type": "code",
   "execution_count": 5,
   "metadata": {},
   "outputs": [],
   "source": [
    "from lenstronomy.LensModel.lens_model import LensModel\n",
    "from lenstronomy.LensModel.lens_model_extensions import LensModelExtensions\n",
    "from lenstronomy.LensModel.Solver.lens_equation_solver import LensEquationSolver"
   ]
  },
  {
   "cell_type": "code",
   "execution_count": 6,
   "metadata": {},
   "outputs": [],
   "source": [
    "lens_model_list = ['PlasmaGaussianSIEcantorot']\n",
    "lensModel = LensModel(lens_model_list)\n",
    "lensEquationSolver = LensEquationSolver(lensModel)"
   ]
  },
  {
   "cell_type": "code",
   "execution_count": 11,
   "metadata": {},
   "outputs": [],
   "source": [
    "theta_0 = 2.9240748\n",
    "psi0_plasma = 0.47012437534577306\n",
    "theta_E = 0.7301786792241515 \n",
    "A = 2.00744300029693\n",
    "B = 1.5887225542022732\n",
    "C = 1.4308204791467736"
   ]
  },
  {
   "cell_type": "markdown",
   "metadata": {},
   "source": [
    "The lensing potential by a point mass is given by \n",
    "\n",
    "$$\n",
    "\\psi = \\frac{4GM}{c^2} \\frac{D_{ls}}{D_l D_s} ln |\\vec{\\theta}|\n",
    "$$\n",
    "\n",
    "In terms of the Einstein radius\n",
    "\n",
    "$$\n",
    "\\theta_e = \\sqrt{\\frac{4GM}{c^2} \\frac{D_{ls}}{D_l D_s}} \\\\\n",
    "\\psi = \\theta_e^2 ln |\\vec{\\theta}|\n",
    "$$"
   ]
  },
  {
   "cell_type": "code",
   "execution_count": null,
   "metadata": {},
   "outputs": [],
   "source": []
  },
  {
   "cell_type": "code",
   "execution_count": 9,
   "metadata": {},
   "outputs": [
    {
     "ename": "NameError",
     "evalue": "name 'A' is not defined",
     "output_type": "error",
     "traceback": [
      "\u001b[0;31m---------------------------------------------------------------------------\u001b[0m",
      "\u001b[0;31mNameError\u001b[0m                                 Traceback (most recent call last)",
      "\u001b[0;32m<ipython-input-9-5529eddd658e>\u001b[0m in \u001b[0;36m<module>\u001b[0;34m\u001b[0m\n\u001b[0;32m----> 1\u001b[0;31m kwargs = {'theta_E':theta_E_num.value,'eta':0*elipt, 'A':A, 'B':B, 'C':C ,'psi0_plasma':psi0_plasma.value,\\\n\u001b[0m\u001b[1;32m      2\u001b[0m                 'theta_0':theta_0.value}\n\u001b[1;32m      3\u001b[0m \u001b[0mkwargs_lens_list\u001b[0m \u001b[0;34m=\u001b[0m \u001b[0;34m[\u001b[0m\u001b[0mkwargs\u001b[0m\u001b[0;34m]\u001b[0m\u001b[0;34m\u001b[0m\u001b[0;34m\u001b[0m\u001b[0m\n",
      "\u001b[0;31mNameError\u001b[0m: name 'A' is not defined"
     ]
    }
   ],
   "source": [
    "kwargs = {'theta_E':theta_E,'eta':0*elipt, 'A':A, 'B':B, 'C':C ,'psi0_plasma':0*psi0_plasma, 'theta_0':theta_0, 'theta_E_1', 'x1', 'y1'}\n",
    "kwargs_lens_list = [kwargs]"
   ]
  },
  {
   "cell_type": "code",
   "execution_count": null,
   "metadata": {},
   "outputs": [],
   "source": [
    "lensModelExtensions = LensModelExtensions(lensModel=lensModel)\n",
    "\n",
    "SSSpgausscantorot = lensModelExtensions.critical_curve_caustics(kwargs_lens=kwargs_lens_list, compute_window=5, \\\n",
    "                                                     grid_scale=0.001)"
   ]
  },
  {
   "cell_type": "code",
   "execution_count": null,
   "metadata": {},
   "outputs": [],
   "source": [
    "fig = plt.figure(figsize=(10,10))\n",
    "ax = fig.gca()\n",
    "ax.set_xticks(np.arange(-2., 2., 1))\n",
    "ax.set_yticks(np.arange(-2., 2., 1))\n",
    "\n",
    "plt.plot(SSSpgausscantorot[0][0],SSSpgausscantorot[1][0], color = '#d3d3d3',zorder=1)\n",
    "plt.plot(SSSpgausscantorot[2][0],SSSpgausscantorot[3][0], color = '#ffd1d1',zorder=1)\n",
    "ax.set_xlabel(r'$\\theta_{x}$ [arcsec]')\n",
    "ax.set_ylabel(r'$\\theta_{y}$ [arcsec]')\n",
    "plt.gca().set_aspect('equal', adjustable='box')\n",
    "ax.set_xlim([-1.5, 1.5])\n",
    "ax.set_ylim([-1.5, 1.5])\n",
    "plt.grid()\n",
    "plt.show()"
   ]
  },
  {
   "cell_type": "code",
   "execution_count": null,
   "metadata": {},
   "outputs": [],
   "source": [
    "# jet source\n",
    "\n",
    "radius_3 = 0.5551103128497743\n",
    "\n",
    "n = 200\n",
    "t = np.linspace(0,1.3*radius_3*np.sqrt(2)/2,n)\n",
    "t2 = np.linspace(0,1.3*1.11*radius_3*np.sqrt(2)/2,n)\n",
    "a = 1.0\n",
    "b = 0.9\n",
    "\n",
    "x0 = -0.2*radius_3\n",
    "y0 = -0.185*radius_3\n",
    "\n",
    "x1 = 0.01*radius_3\n",
    "y1 = 0.01*radius_3\n",
    "x_source_1 = t + x0\n",
    "y_source_1 = a*t + y0\n",
    "x_source_2 = t2 + x0 + x1\n",
    "y_source_2 = b*t2 + y0 - y1\n",
    "        \n",
    "mesh_x = []\n",
    "mesh_y = []\n",
    "n1 = 7  #n1 lower implies a higher number of points\n",
    "for j in range(len(x_source_1)):\n",
    "    for i in range(int(j/n1)):\n",
    "        mesh_x.append(x_source_1[j]+j*0.02/n)\n",
    "        z = np.linspace(y_source_2[j]-j*0.02/n, y_source_1[j]+j*0.02/n,int(j/n1))\n",
    "        mesh_y.append(z[i])\n",
    "        \n",
    "mesh__x = []\n",
    "mesh__y = []\n",
    "limit = len(mesh_x) - int(n/n1)\n",
    "for i in range(61):\n",
    "    mesh_x[i] = 0.\n",
    "    mesh_y[i] = 0.\n",
    "for i in range(len(mesh_x)):\n",
    "    if np.sqrt(mesh_x[i]**2+mesh_y[i]**2) < np.sqrt(mesh_x[limit]**2+mesh_y[limit]**2) and np.sqrt(mesh_x[i]**2+mesh_y[i]**2)>0.001:\n",
    "        mesh__x.append(mesh_x[i])\n",
    "        mesh__y.append(mesh_y[i])\n",
    "        \n",
    "mesh_x = mesh__x\n",
    "mesh_y = mesh__y\n",
    "\n",
    "k = np.array(mesh_y).argmin()\n",
    "mesh_x[k] = 0\n",
    "mesh_y[k] = 0\n",
    "\n",
    "fig = plt.figure(figsize=(12,12))\n",
    "ax = fig.gca()\n",
    "ax.set_xticks(np.arange(-2., 2., 0.02))\n",
    "ax.set_yticks(np.arange(-2., 2., 0.02))\n",
    "ax.set_xlabel(r'$\\eta_{x}$ [arcsec]')\n",
    "ax.set_ylabel(r'$\\eta_{y}$ [arcsec]')\n",
    "plt.scatter(mesh_x,mesh_y, s = .5, marker = 'o')\n",
    "plt.gca().set_aspect('equal', adjustable='box')\n",
    "plt.grid()\n",
    "plt.show()"
   ]
  },
  {
   "cell_type": "code",
   "execution_count": null,
   "metadata": {},
   "outputs": [],
   "source": [
    "# count blobes from smaller to bigger\n",
    "alpha = -(np.pi/4 + 1.5* np.pi/180)\n",
    "\n",
    "rx_1 = 0.017/2\n",
    "ry_1 = 5*rx_1\n",
    "cx_1 = 0.12\n",
    "cy_1 = 0.11+0.01*radius_3\n",
    "rx_2 = 0.022/2\n",
    "ry_2 = 5*rx_1\n",
    "cx_2 = 0.18 \n",
    "cy_2 = 0.167+0.01*radius_3\n",
    "rx_3 = 0.027/2\n",
    "ry_3 = 5*rx_3\n",
    "cx_3 = 0.26\n",
    "cy_3 = 0.245+0.01*radius_3 \n",
    "rx_4 = 0.045/2\n",
    "ry_4 = 4*rx_4\n",
    "cx_4 = 0.37 \n",
    "cy_4 = 0.35+0.01*radius_3   \n",
    "mesh_light = []\n",
    "for i in range(len(mesh_x)):\n",
    "    if ( (mesh_x[i]-cx_1)*np.cos(alpha) + (mesh_y[i]-cy_1)*np.sin(alpha) )**2/rx_1**2 + \\\n",
    "( (mesh_x[i]-cx_1)*np.sin(alpha) - (mesh_y[i]-cy_1)*np.cos(alpha) )**2/ry_1**2 < 1:\n",
    "        r = np.sqrt(((mesh_x[i]-cx_1)*np.cos(alpha) + (mesh_y[i]-cy_1)*np.sin(alpha) )**2/rx_1**2 + \\\n",
    "( (mesh_x[i]-cx_1)*np.sin(alpha) - (mesh_y[i]-cy_1)*np.cos(alpha) )**2/ry_1**2)\n",
    "        light = np.exp(-r**2)\n",
    "        mesh_light.append(light)\n",
    "    elif ( (mesh_x[i]-cx_2)*np.cos(alpha) + (mesh_y[i]-cy_2)*np.sin(alpha) )**2/rx_2**2 + \\\n",
    "( (mesh_x[i]-cx_2)*np.sin(alpha) - (mesh_y[i]-cy_2)*np.cos(alpha) )**2/ry_2**2 < 1:\n",
    "        r = np.sqrt(((mesh_x[i]-cx_2)*np.cos(alpha) + (mesh_y[i]-cy_2)*np.sin(alpha) )**2/rx_2**2 + \\\n",
    "( (mesh_x[i]-cx_2)*np.sin(alpha) - (mesh_y[i]-cy_2)*np.cos(alpha) )**2/ry_2**2)\n",
    "        light = np.exp(-r**2)\n",
    "        mesh_light.append(light)\n",
    "    elif ( (mesh_x[i]-cx_3)*np.cos(alpha) + (mesh_y[i]-cy_3)*np.sin(alpha) )**2/rx_3**2 + \\\n",
    "( (mesh_x[i]-cx_3)*np.sin(alpha) - (mesh_y[i]-cy_3)*np.cos(alpha) )**2/ry_3**2 < 1:\n",
    "        r = np.sqrt(((mesh_x[i]-cx_3)*np.cos(alpha) + (mesh_y[i]-cy_3)*np.sin(alpha) )**2/rx_3**2 + \\\n",
    "( (mesh_x[i]-cx_3)*np.sin(alpha) - (mesh_y[i]-cy_3)*np.cos(alpha) )**2/ry_3**2)\n",
    "        light = np.exp(-r**2)\n",
    "        mesh_light.append(light)\n",
    "    elif ( (mesh_x[i]-cx_4)*np.cos(alpha) + (mesh_y[i]-cy_4)*np.sin(alpha) )**2/rx_4**2 + \\\n",
    "( (mesh_x[i]-cx_4)*np.sin(alpha) - (mesh_y[i]-cy_4)*np.cos(alpha) )**2/ry_4**2 < 1:\n",
    "        r = np.sqrt(((mesh_x[i]-cx_4)*np.cos(alpha) + (mesh_y[i]-cy_4)*np.sin(alpha) )**2/rx_4**2 + \\\n",
    "( (mesh_x[i]-cx_4)*np.sin(alpha) - (mesh_y[i]-cy_4)*np.cos(alpha) )**2/ry_4**2)\n",
    "        light = np.exp(-r**2)\n",
    "        mesh_light.append(light)    \n",
    "    else:\n",
    "        light = 1/np.e\n",
    "        mesh_light.append(light)"
   ]
  },
  {
   "cell_type": "code",
   "execution_count": null,
   "metadata": {},
   "outputs": [],
   "source": [
    "fig = plt.figure(figsize=(12,12))\n",
    "ax = fig.gca()\n",
    "ax.set_xticks(np.arange(-2., 2., .1))\n",
    "ax.set_yticks(np.arange(-2., 2., .1))\n",
    "ax.set_xlabel(r'$\\theta_{x}$ [arcsec]')\n",
    "ax.set_ylabel(r'$\\theta_{y}$ [arcsec]')\n",
    "plt.scatter(mesh_x, mesh_y, c=mesh_light, cmap='hot', s = 3.5)\n",
    "#cbar.set_label('Brightness Profile')\n",
    "plt.gca().set_aspect('equal', adjustable='box')\n",
    "plt.grid()\n",
    "plt.show()"
   ]
  },
  {
   "cell_type": "code",
   "execution_count": null,
   "metadata": {},
   "outputs": [],
   "source": [
    "def image_position(source):\n",
    "    x_s, y_s,light = source\n",
    "    x_pre, y_pre = lensEquationSolver.image_position_from_source(kwargs_lens=kwargs_lens_list, \\\n",
    "                    sourcePos_x=x_s, sourcePos_y=y_s, min_distance=0.05, search_window=5, \\\n",
    "                    precision_limit=10**(-8), num_iter_max=100,non_linear=True)\n",
    "    light_pre = []\n",
    "    for k in range(len(x_pre)):\n",
    "        light_pre = np.append(light_pre,light)\n",
    "    return x_pre, y_pre, light_pre\n",
    "\n",
    "def main(x1,x2,x3):\n",
    "    start_p = time.time()\n",
    "    x = x1\n",
    "    y = x2\n",
    "    l = x3\n",
    "    \n",
    "    with mp.Pool(mp.cpu_count()-1) as pool:\n",
    "        out = pool.map(image_position, zip(x,y,l))\n",
    "        \n",
    "        xx = []; yy = []; ll = []\n",
    "        for i in range(len(out)):\n",
    "            x = out[i][0]\n",
    "            xx.append(x)\n",
    "            y = out[i][1]\n",
    "            yy.append(y)\n",
    "            l = out[i][2]\n",
    "            ll.append(l)\n",
    "        xx = np.concatenate(xx, axis=0)\n",
    "        yy = np.concatenate(yy, axis=0)\n",
    "        ll = np.concatenate(ll, axis=0)\n",
    "    end_p = time.time()\n",
    "    pool.close()\n",
    "    print('time: ',(end_p-start_p)/60.,' minutes')\n",
    "        \n",
    "    return xx, yy, ll"
   ]
  },
  {
   "cell_type": "code",
   "execution_count": null,
   "metadata": {},
   "outputs": [],
   "source": [
    "(1e23/(u.cm)**(2)).decompose()"
   ]
  },
  {
   "cell_type": "code",
   "execution_count": null,
   "metadata": {},
   "outputs": [],
   "source": []
  }
 ],
 "metadata": {
  "kernelspec": {
   "display_name": "Python 3",
   "language": "python",
   "name": "python3"
  },
  "language_info": {
   "codemirror_mode": {
    "name": "ipython",
    "version": 3
   },
   "file_extension": ".py",
   "mimetype": "text/x-python",
   "name": "python",
   "nbconvert_exporter": "python",
   "pygments_lexer": "ipython3",
   "version": "3.8.5"
  }
 },
 "nbformat": 4,
 "nbformat_minor": 4
}
