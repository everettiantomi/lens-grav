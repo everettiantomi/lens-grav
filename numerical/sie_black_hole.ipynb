{
 "cells": [
  {
   "cell_type": "code",
   "execution_count": 1,
   "metadata": {},
   "outputs": [],
   "source": [
    "import numpy as np\n",
    "import matplotlib.pyplot as plt\n",
    "from astropy import units as u\n",
    "from astropy import constants as const\n",
    "import matplotlib as mpl\n",
    "from jupyterthemes import jtplot #These two lines can be skipped if you are not using jupyter themes\n",
    "jtplot.reset()\n",
    "\n",
    "from astropy.cosmology import FlatLambdaCDM\n",
    "cosmo = FlatLambdaCDM(H0=67.4, Om0=0.314)\n",
    "import scipy as sp\n",
    "import multiprocessing as mp\n",
    "\n",
    "\n",
    "import time\n",
    "start_total = time.time()"
   ]
  },
  {
   "cell_type": "code",
   "execution_count": 2,
   "metadata": {},
   "outputs": [],
   "source": [
    "from lenstronomy.LensModel.lens_model import LensModel\n",
    "from lenstronomy.LensModel.lens_model_extensions import LensModelExtensions\n",
    "from lenstronomy.LensModel.Solver.lens_equation_solver import LensEquationSolver"
   ]
  },
  {
   "cell_type": "code",
   "execution_count": 3,
   "metadata": {},
   "outputs": [
    {
     "name": "stdout",
     "output_type": "stream",
     "text": [
      "scale radius (m):  7.705329461274929e+19 m\n",
      "scale radius (kpc):  2.49712721364453 kpc\n",
      "theta_E:  0.7301786792241515 arcsec\n",
      "Classic electron radius:  2.817940324670788e-15 m\n"
     ]
    }
   ],
   "source": [
    "zl = 0.2; zs = 1.2\n",
    "Dl = cosmo.angular_diameter_distance(zl)   \n",
    "Ds = cosmo.angular_diameter_distance(zs)    \n",
    "Dls = cosmo.angular_diameter_distance_z1z2(zl, zs)\n",
    "G = const.G\n",
    "rho_crit = (cosmo.critical_density(zl)).to(u.kg/u.m**3)\n",
    "c_light = (const.c).to(u.cm/u.second)\n",
    "\n",
    "#r0 = 10*u.kpc\n",
    "r0 = 10.0*u.kpc\n",
    "#r0 = 0.1*u.kpc\n",
    "pi = np.pi\n",
    "\n",
    "def scale_radius(v,Dl,Ds,Dls):                               #this is e0 in eq 3.42 meneghetti, eq 1 barnacka 2014\n",
    "    return (4.*pi*v**2/c_light**2*Dl*Dls/Ds).decompose()\n",
    "def theta_E_SIS():\n",
    "    'in arcsec'\n",
    "    pre_theta_E = (scale_radius(v,Dl,Ds,Dls)/Dl).decompose()\n",
    "    return pre_theta_E*u.rad.to('arcsec', equivalencies=u.dimensionless_angles()) \n",
    "\n",
    "v = 180 *u.km/u.s\n",
    "ss_r = scale_radius(v,Dl,Ds,Dls) \n",
    "print('scale radius (m): ',ss_r)\n",
    "print('scale radius (kpc): ',ss_r.to(u.kpc))\n",
    "print('theta_E: ',theta_E_SIS() ,'arcsec')\n",
    "theta_E_num = theta_E_SIS()\n",
    "elipt = 0.3\n",
    "re = (const.e.esu**2/const.m_e/(c_light**2)).decompose()\n",
    "print('Classic electron radius: ',re)"
   ]
  },
  {
   "cell_type": "code",
   "execution_count": null,
   "metadata": {},
   "outputs": [],
   "source": [
    "# jet source\n",
    "\n",
    "radius_3 = 0.5551103128497743\n",
    "\n",
    "n = 200\n",
    "t = np.linspace(0,1.3*radius_3*np.sqrt(2)/2,n)\n",
    "t2 = np.linspace(0,1.3*1.11*radius_3*np.sqrt(2)/2,n)\n",
    "a = 1.0\n",
    "b = 0.9\n",
    "\n",
    "x0 = -0.2*radius_3\n",
    "y0 = -0.185*radius_3\n",
    "\n",
    "x1 = 0.01*radius_3\n",
    "y1 = 0.01*radius_3\n",
    "x_source_1 = t + x0\n",
    "y_source_1 = a*t + y0\n",
    "x_source_2 = t2 + x0 + x1\n",
    "y_source_2 = b*t2 + y0 - y1\n",
    "        \n",
    "mesh_x = []\n",
    "mesh_y = []\n",
    "n1 = 7  #n1 lower implies a higher number of points\n",
    "for j in range(len(x_source_1)):\n",
    "    for i in range(int(j/n1)):\n",
    "        mesh_x.append(x_source_1[j]+j*0.02/n)\n",
    "        z = np.linspace(y_source_2[j]-j*0.02/n, y_source_1[j]+j*0.02/n,int(j/n1))\n",
    "        mesh_y.append(z[i])\n",
    "        \n",
    "mesh__x = []\n",
    "mesh__y = []\n",
    "limit = len(mesh_x) - int(n/n1)\n",
    "for i in range(61):\n",
    "    mesh_x[i] = 0.\n",
    "    mesh_y[i] = 0.\n",
    "for i in range(len(mesh_x)):\n",
    "    if np.sqrt(mesh_x[i]**2+mesh_y[i]**2) < np.sqrt(mesh_x[limit]**2+mesh_y[limit]**2) and np.sqrt(mesh_x[i]**2+mesh_y[i]**2)>0.001:\n",
    "        mesh__x.append(mesh_x[i])\n",
    "        mesh__y.append(mesh_y[i])\n",
    "        \n",
    "mesh_x = mesh__x\n",
    "mesh_y = mesh__y\n",
    "\n",
    "k = np.array(mesh_y).argmin()\n",
    "mesh_x[k] = 0\n",
    "mesh_y[k] = 0"
   ]
  },
  {
   "cell_type": "code",
   "execution_count": null,
   "metadata": {},
   "outputs": [],
   "source": [
    "# count blobes from smaller to bigger\n",
    "alpha = -(np.pi/4 + 1.5* np.pi/180)\n",
    "\n",
    "rx_1 = 0.017/2\n",
    "ry_1 = 5*rx_1\n",
    "cx_1 = 0.12\n",
    "cy_1 = 0.11+0.01*radius_3\n",
    "rx_2 = 0.022/2\n",
    "ry_2 = 5*rx_1\n",
    "cx_2 = 0.18 \n",
    "cy_2 = 0.167+0.01*radius_3\n",
    "rx_3 = 0.027/2\n",
    "ry_3 = 5*rx_3\n",
    "cx_3 = 0.26\n",
    "cy_3 = 0.245+0.01*radius_3 \n",
    "rx_4 = 0.045/2\n",
    "ry_4 = 4*rx_4\n",
    "cx_4 = 0.37 \n",
    "cy_4 = 0.35+0.01*radius_3   \n",
    "mesh_light = []\n",
    "for i in range(len(mesh_x)):\n",
    "    if ( (mesh_x[i]-cx_1)*np.cos(alpha) + (mesh_y[i]-cy_1)*np.sin(alpha) )**2/rx_1**2 + \\\n",
    "( (mesh_x[i]-cx_1)*np.sin(alpha) - (mesh_y[i]-cy_1)*np.cos(alpha) )**2/ry_1**2 < 1:\n",
    "        r = np.sqrt(((mesh_x[i]-cx_1)*np.cos(alpha) + (mesh_y[i]-cy_1)*np.sin(alpha) )**2/rx_1**2 + \\\n",
    "( (mesh_x[i]-cx_1)*np.sin(alpha) - (mesh_y[i]-cy_1)*np.cos(alpha) )**2/ry_1**2)\n",
    "        light = np.exp(-r**2)\n",
    "        mesh_light.append(light)\n",
    "    elif ( (mesh_x[i]-cx_2)*np.cos(alpha) + (mesh_y[i]-cy_2)*np.sin(alpha) )**2/rx_2**2 + \\\n",
    "( (mesh_x[i]-cx_2)*np.sin(alpha) - (mesh_y[i]-cy_2)*np.cos(alpha) )**2/ry_2**2 < 1:\n",
    "        r = np.sqrt(((mesh_x[i]-cx_2)*np.cos(alpha) + (mesh_y[i]-cy_2)*np.sin(alpha) )**2/rx_2**2 + \\\n",
    "( (mesh_x[i]-cx_2)*np.sin(alpha) - (mesh_y[i]-cy_2)*np.cos(alpha) )**2/ry_2**2)\n",
    "        light = np.exp(-r**2)\n",
    "        mesh_light.append(light)\n",
    "    elif ( (mesh_x[i]-cx_3)*np.cos(alpha) + (mesh_y[i]-cy_3)*np.sin(alpha) )**2/rx_3**2 + \\\n",
    "( (mesh_x[i]-cx_3)*np.sin(alpha) - (mesh_y[i]-cy_3)*np.cos(alpha) )**2/ry_3**2 < 1:\n",
    "        r = np.sqrt(((mesh_x[i]-cx_3)*np.cos(alpha) + (mesh_y[i]-cy_3)*np.sin(alpha) )**2/rx_3**2 + \\\n",
    "( (mesh_x[i]-cx_3)*np.sin(alpha) - (mesh_y[i]-cy_3)*np.cos(alpha) )**2/ry_3**2)\n",
    "        light = np.exp(-r**2)\n",
    "        mesh_light.append(light)\n",
    "    elif ( (mesh_x[i]-cx_4)*np.cos(alpha) + (mesh_y[i]-cy_4)*np.sin(alpha) )**2/rx_4**2 + \\\n",
    "( (mesh_x[i]-cx_4)*np.sin(alpha) - (mesh_y[i]-cy_4)*np.cos(alpha) )**2/ry_4**2 < 1:\n",
    "        r = np.sqrt(((mesh_x[i]-cx_4)*np.cos(alpha) + (mesh_y[i]-cy_4)*np.sin(alpha) )**2/rx_4**2 + \\\n",
    "( (mesh_x[i]-cx_4)*np.sin(alpha) - (mesh_y[i]-cy_4)*np.cos(alpha) )**2/ry_4**2)\n",
    "        light = np.exp(-r**2)\n",
    "        mesh_light.append(light)    \n",
    "    else:\n",
    "        light = 1/np.e\n",
    "        mesh_light.append(light)"
   ]
  },
  {
   "cell_type": "code",
   "execution_count": 4,
   "metadata": {},
   "outputs": [],
   "source": [
    "def image_position(source):\n",
    "    x_s, y_s,light = source\n",
    "    x_pre, y_pre = lensEquationSolver.image_position_from_source(kwargs_lens=kwargs_lens_list, \\\n",
    "                    sourcePos_x=x_s, sourcePos_y=y_s, min_distance=0.05, search_window=5, \\\n",
    "                    precision_limit=10**(-8), num_iter_max=100,non_linear=True)\n",
    "    light_pre = []\n",
    "    for k in range(len(x_pre)):\n",
    "        light_pre = np.append(light_pre,light)\n",
    "    return x_pre, y_pre, light_pre\n",
    "\n",
    "def main(x1,x2,x3):\n",
    "    start_p = time.time()\n",
    "    x = x1\n",
    "    y = x2\n",
    "    l = x3\n",
    "    \n",
    "    with mp.Pool(mp.cpu_count()-1) as pool:\n",
    "        out = pool.map(image_position, zip(x,y,l))\n",
    "        \n",
    "        xx = []; yy = []; ll = []\n",
    "        for i in range(len(out)):\n",
    "            x = out[i][0]\n",
    "            xx.append(x)\n",
    "            y = out[i][1]\n",
    "            yy.append(y)\n",
    "            l = out[i][2]\n",
    "            ll.append(l)\n",
    "        xx = np.concatenate(xx, axis=0)\n",
    "        yy = np.concatenate(yy, axis=0)\n",
    "        ll = np.concatenate(ll, axis=0)\n",
    "    end_p = time.time()\n",
    "    pool.close()\n",
    "    print('time: ',(end_p-start_p)/60.,' minutes')\n",
    "        \n",
    "    return xx, yy, ll"
   ]
  },
  {
   "cell_type": "code",
   "execution_count": null,
   "metadata": {},
   "outputs": [],
   "source": [
    "lens_model_list = ['SIEBH']\n",
    "lensModel = LensModel(lens_model_list)\n",
    "lensEquationSolver = LensEquationSolver(lensModel)"
   ]
  },
  {
   "cell_type": "code",
   "execution_count": null,
   "metadata": {},
   "outputs": [],
   "source": [
    "kwargs = {'theta_E':theta_E_num.value,'eta':0*elipt, 'theta_E_1':0, 'x1':0, 'y1':0}\n",
    "kwargs_lens_list = [kwargs]"
   ]
  },
  {
   "cell_type": "code",
   "execution_count": null,
   "metadata": {},
   "outputs": [],
   "source": [
    "lensModelExtensions = LensModelExtensions(lensModel=lensModel)\n",
    "\n",
    "SSSbh = lensModelExtensions.critical_curve_caustics(kwargs_lens=kwargs_lens_list, compute_window=5, \\\n",
    "                                                     grid_scale=0.001)"
   ]
  },
  {
   "cell_type": "code",
   "execution_count": null,
   "metadata": {},
   "outputs": [],
   "source": [
    "mesh_x_1 = np.array(mesh_x) - 0.2\n",
    "mesh_y_1 = np.array(mesh_y) + 0.3"
   ]
  },
  {
   "cell_type": "code",
   "execution_count": null,
   "metadata": {},
   "outputs": [],
   "source": [
    "x_image_1, y_image_1, light_1 = main(mesh_x_1,mesh_y_1,mesh_light)"
   ]
  },
  {
   "cell_type": "code",
   "execution_count": null,
   "metadata": {},
   "outputs": [],
   "source": [
    "fig = plt.figure(figsize=(8,8))\n",
    "ax = fig.gca()\n",
    "ax.set_xticks(np.arange(-2., 2., 1))\n",
    "ax.set_yticks(np.arange(-2., 2., 1))\n",
    "\n",
    "plt.scatter(mesh_x_1,mesh_y_1, s =.002, c=mesh_light, cmap='hot',zorder = 2)\n",
    "plt.plot(SSSbh[0][0],SSSbh[1][0], color = '#d3d3d3',zorder=1)\n",
    "plt.plot(SSSbh[2][0],SSSbh[3][0], color = '#ffd1d1',zorder=1)\n",
    "ax.set_xlabel(r'$\\theta_{x}$ [arcsec]')\n",
    "ax.set_ylabel(r'$\\theta_{y}$ [arcsec]')\n",
    "plt.gca().set_aspect('equal', adjustable='box')\n",
    "plt.scatter(x_image_1, y_image_1, c=light_1, cmap='hot', s = 3, zorder = 2)\n",
    "ax.set_xlim([-1.5, 1.5])\n",
    "ax.set_ylim([-1.5, 1.5])\n",
    "ax.grid(zorder=1)\n",
    "plt.show()"
   ]
  },
  {
   "cell_type": "code",
   "execution_count": null,
   "metadata": {},
   "outputs": [],
   "source": [
    "fig = plt.figure(figsize=(8,8))\n",
    "ax = fig.gca()\n",
    "ax.set_xticks(np.arange(-500, 500, 100))\n",
    "ax.set_yticks(np.arange(500, 1500, 100))\n",
    "\n",
    "plt.scatter(mesh_x_1*1e3,mesh_y_1*1e3, s =.002, c=mesh_light, cmap='hot',zorder = 2)\n",
    "plt.plot(SSSbh[0][0],SSSbh[1][0], color = '#d3d3d3',zorder=1)\n",
    "plt.plot(SSSbh[2][0],SSSbh[3][0], color = '#ffd1d1',zorder=1)\n",
    "ax.set_xlabel(r'$\\theta_{x}$ [mas]')\n",
    "ax.set_ylabel(r'$\\theta_{y}$ [mas]')\n",
    "plt.gca().set_aspect('equal', adjustable='box')\n",
    "plt.scatter(x_image_1*1e3, y_image_1*1e3, c=light_1, cmap='hot', s = 2, zorder = 3)\n",
    "ax.set_xlim([-500, 500])\n",
    "ax.set_ylim([500, 1500])\n",
    "plt.grid(zorder = 1)\n",
    "plt.show()"
   ]
  },
  {
   "cell_type": "code",
   "execution_count": null,
   "metadata": {},
   "outputs": [],
   "source": [
    "x1 = .14\n",
    "y1 = 1.25"
   ]
  },
  {
   "cell_type": "code",
   "execution_count": null,
   "metadata": {},
   "outputs": [],
   "source": [
    "fig = plt.figure(figsize=(8,8))\n",
    "ax = fig.gca()\n",
    "ax.set_xticks(np.arange(-500, 500, 100))\n",
    "ax.set_yticks(np.arange(500, 1500, 100))\n",
    "\n",
    "plt.scatter(mesh_x_1*1e3,mesh_y_1*1e3, s =.002, c=mesh_light, cmap='hot',zorder = 2)\n",
    "plt.plot(SSSbh[0][0],SSSbh[1][0], color = '#d3d3d3',zorder=1)\n",
    "plt.plot(SSSbh[2][0],SSSbh[3][0], color = '#ffd1d1',zorder=1)\n",
    "ax.set_xlabel(r'$\\theta_{x}$ [mas]')\n",
    "ax.set_ylabel(r'$\\theta_{y}$ [mas]')\n",
    "\n",
    "plt.scatter(x1*1e3, y1*1e3, s = 10 , color = 'blue', zorder = 4)\n",
    "plt.gca().set_aspect('equal', adjustable='box')\n",
    "plt.scatter(x_image_1*1e3, y_image_1*1e3, c=light_1, cmap='hot', s = 2, zorder = 3)\n",
    "ax.set_xlim([-500, 500])\n",
    "ax.set_ylim([500, 1500])\n",
    "plt.grid(zorder = 1)\n",
    "plt.show()"
   ]
  },
  {
   "cell_type": "markdown",
   "metadata": {},
   "source": [
    "The lensing potential by a point mass is given by \n",
    "\n",
    "$$\n",
    "\\psi = \\frac{4GM}{c^2} \\frac{D_{ls}}{D_l D_s} ln |\\vec{\\theta}|\n",
    "$$\n",
    "\n",
    "In terms of the Einstein radius\n",
    "\n",
    "$$\n",
    "\\theta_{e_1} = \\sqrt{\\frac{4GM}{c^2} \\frac{D_{ls}}{D_l D_s}} \\\\\n",
    "\\psi = \\theta_{e_1}^2 ln |\\vec{\\theta}|\n",
    "$$\n",
    "\n",
    "Lets start with \n",
    "\n",
    "$$\n",
    "M_1 = 10^3 M_\\odot \\\\\n",
    "M_2 = 10^4 M_\\odot \\\\\n",
    "M_3 = 10^5 M_\\odot \\\\\n",
    "M_4 = 10^6 M_\\odot \\\\\n",
    "M_5 = 10^8 M_\\odot \n",
    "$$"
   ]
  },
  {
   "cell_type": "markdown",
   "metadata": {},
   "source": [
    "The mass of the main lens is \n",
    "\n",
    "$$\n",
    "M(\\theta_e) =  \\theta_e^2 \\frac{c^2}{4G} \\frac{D_l D_s}{D_{ls}}\n",
    "$$"
   ]
  },
  {
   "cell_type": "code",
   "execution_count": 5,
   "metadata": {},
   "outputs": [
    {
     "data": {
      "text/latex": [
       "$5.9096441 \\times 10^{10} \\; \\mathrm{}$"
      ],
      "text/plain": [
       "<Quantity 5.90964413e+10>"
      ]
     },
     "execution_count": 5,
     "metadata": {},
     "output_type": "execute_result"
    }
   ],
   "source": [
    "M_e = (theta_E_num*u.arcsec)**2 * c_light**2 /4 / G * Dl * Ds / Dls\n",
    "M_e = (M_e/(u.rad)**2).decompose()\n",
    "ms = 1.98847e30*u.kg\n",
    "M_e/ms"
   ]
  },
  {
   "cell_type": "markdown",
   "metadata": {},
   "source": [
    "$$\n",
    "M(0.73 \\mathrm{arcsec}) =  5.91\\cdot 10^{10} M_\\odot\n",
    "$$"
   ]
  },
  {
   "cell_type": "code",
   "execution_count": 6,
   "metadata": {},
   "outputs": [],
   "source": [
    "ms = 1.98847e30*u.kg  #solar mass\n",
    "m1 = ms*1e3\n",
    "m2 = ms*1e4\n",
    "m3 = ms*1e5\n",
    "m4 = ms*1e6\n",
    "m5 = ms*1e8"
   ]
  },
  {
   "cell_type": "code",
   "execution_count": 7,
   "metadata": {},
   "outputs": [
    {
     "data": {
      "text/plain": [
       "9.498356879908454e-05"
      ]
     },
     "execution_count": 7,
     "metadata": {},
     "output_type": "execute_result"
    }
   ],
   "source": [
    "theta_E_1 = np.sqrt(4*G*m1/c_light**2*Dls/Dl/Ds)\n",
    "theta_E_1 = theta_E_1.decompose()*u.rad.to('arcsec', equivalencies=u.dimensionless_angles()) \n",
    "theta_E_1.value"
   ]
  },
  {
   "cell_type": "code",
   "execution_count": 8,
   "metadata": {},
   "outputs": [
    {
     "data": {
      "text/plain": [
       "0.0003003644176964114"
      ]
     },
     "execution_count": 8,
     "metadata": {},
     "output_type": "execute_result"
    }
   ],
   "source": [
    "theta_E_2 = np.sqrt(4*G*m2/c_light**2*Dls/Dl/Ds)\n",
    "theta_E_2 = theta_E_2.decompose()*u.rad.to('arcsec', equivalencies=u.dimensionless_angles()) \n",
    "theta_E_2.value"
   ]
  },
  {
   "cell_type": "code",
   "execution_count": 9,
   "metadata": {},
   "outputs": [
    {
     "data": {
      "text/plain": [
       "0.0009498356879908454"
      ]
     },
     "execution_count": 9,
     "metadata": {},
     "output_type": "execute_result"
    }
   ],
   "source": [
    "theta_E_3 = np.sqrt(4*G*m3/c_light**2*Dls/Dl/Ds)\n",
    "theta_E_3 = theta_E_3.decompose()*u.rad.to('arcsec', equivalencies=u.dimensionless_angles()) \n",
    "theta_E_3.value"
   ]
  },
  {
   "cell_type": "code",
   "execution_count": 10,
   "metadata": {},
   "outputs": [
    {
     "data": {
      "text/plain": [
       "0.0030036441769641137"
      ]
     },
     "execution_count": 10,
     "metadata": {},
     "output_type": "execute_result"
    }
   ],
   "source": [
    "theta_E_4 = np.sqrt(4*G*m4/c_light**2*Dls/Dl/Ds)\n",
    "theta_E_4 = theta_E_4.decompose()*u.rad.to('arcsec', equivalencies=u.dimensionless_angles()) \n",
    "theta_E_4.value"
   ]
  },
  {
   "cell_type": "code",
   "execution_count": 11,
   "metadata": {},
   "outputs": [
    {
     "data": {
      "text/plain": [
       "0.030036441769641136"
      ]
     },
     "execution_count": 11,
     "metadata": {},
     "output_type": "execute_result"
    }
   ],
   "source": [
    "theta_E_5 = np.sqrt(4*G*m5/c_light**2*Dls/Dl/Ds)\n",
    "theta_E_5 = theta_E_5.decompose()*u.rad.to('arcsec', equivalencies=u.dimensionless_angles()) \n",
    "theta_E_5.value"
   ]
  },
  {
   "cell_type": "code",
   "execution_count": null,
   "metadata": {},
   "outputs": [],
   "source": [
    "kwargs = {'theta_E':theta_E_num.value,'eta':0*elipt, 'theta_E_1':theta_E_1.value, 'x1':x1, 'y1':y1}\n",
    "kwargs_lens_list = [kwargs]"
   ]
  },
  {
   "cell_type": "code",
   "execution_count": null,
   "metadata": {},
   "outputs": [],
   "source": [
    "x_image_bh_1, y_image_bh_1, light_bh_1 = main(mesh_x_1,mesh_y_1,mesh_light)"
   ]
  },
  {
   "cell_type": "code",
   "execution_count": null,
   "metadata": {},
   "outputs": [],
   "source": [
    "fig = plt.figure(figsize=(8,8))\n",
    "ax = fig.gca()\n",
    "ax.set_xticks(np.arange(-500, 500, 100))\n",
    "ax.set_yticks(np.arange(500, 1500, 100))\n",
    "\n",
    "plt.scatter(mesh_x_1*1e3,mesh_y_1*1e3, s =.002, c=mesh_light, cmap='hot',zorder = 2)\n",
    "plt.plot(SSSbh[0][0],SSSbh[1][0], color = '#d3d3d3',zorder=1)\n",
    "plt.plot(SSSbh[2][0],SSSbh[3][0], color = '#ffd1d1',zorder=1)\n",
    "ax.set_xlabel(r'$\\theta_{x}$ [mas]')\n",
    "ax.set_ylabel(r'$\\theta_{y}$ [mas]')\n",
    "\n",
    "plt.scatter(x1*1e3, y1*1e3, s = 10 , color = 'blue', zorder = 4)\n",
    "plt.gca().set_aspect('equal', adjustable='box')\n",
    "plt.scatter(x_image_bh_1*1e3, y_image_bh_1*1e3, c=light_bh_1, cmap='hot', s = 2, zorder = 3)\n",
    "ax.set_xlim([-500, 500])\n",
    "ax.set_ylim([500, 1500])\n",
    "plt.grid(zorder = 1)\n",
    "plt.show()"
   ]
  },
  {
   "cell_type": "code",
   "execution_count": null,
   "metadata": {},
   "outputs": [],
   "source": [
    "kwargs = {'theta_E':theta_E_num.value,'eta':0*elipt, 'theta_E_1':theta_E_4.value, 'x1':x1, 'y1':y1}\n",
    "kwargs_lens_list = [kwargs]"
   ]
  },
  {
   "cell_type": "code",
   "execution_count": null,
   "metadata": {},
   "outputs": [],
   "source": [
    "x_image_bh_2, y_image_bh_2, light_bh_2 = main(mesh_x_1,mesh_y_1,mesh_light)"
   ]
  },
  {
   "cell_type": "code",
   "execution_count": null,
   "metadata": {},
   "outputs": [],
   "source": [
    "fig = plt.figure(figsize=(8,8))\n",
    "ax = fig.gca()\n",
    "ax.set_xticks(np.arange(-500, 500, 100))\n",
    "ax.set_yticks(np.arange(500, 1500, 100))\n",
    "\n",
    "plt.scatter(mesh_x_1*1e3,mesh_y_1*1e3, s =.002, c=mesh_light, cmap='hot',zorder = 2)\n",
    "plt.plot(SSSbh[0][0],SSSbh[1][0], color = '#d3d3d3',zorder=1)\n",
    "plt.plot(SSSbh[2][0],SSSbh[3][0], color = '#ffd1d1',zorder=1)\n",
    "ax.set_xlabel(r'$\\theta_{x}$ [mas]')\n",
    "ax.set_ylabel(r'$\\theta_{y}$ [mas]')\n",
    "\n",
    "plt.scatter(x1*1e3, y1*1e3, s = 10 , color = 'blue', zorder = 4)\n",
    "plt.gca().set_aspect('equal', adjustable='box')\n",
    "plt.scatter(x_image_bh_2*1e3, y_image_bh_2*1e3, c=light_bh_2, cmap='hot', s = 2, zorder = 3)\n",
    "ax.set_xlim([-500, 500])\n",
    "ax.set_ylim([500, 1500])\n",
    "plt.grid(zorder = 1)\n",
    "plt.show()"
   ]
  },
  {
   "cell_type": "code",
   "execution_count": null,
   "metadata": {},
   "outputs": [],
   "source": [
    "kwargs = {'theta_E':theta_E_num.value,'eta':0*elipt, 'theta_E_1':theta_E_5.value, 'x1':x1, 'y1':y1}\n",
    "kwargs_lens_list = [kwargs]"
   ]
  },
  {
   "cell_type": "code",
   "execution_count": null,
   "metadata": {},
   "outputs": [],
   "source": [
    "x_image_bh_3, y_image_bh_3, light_bh_3 = main(mesh_x_1,mesh_y_1,mesh_light)"
   ]
  },
  {
   "cell_type": "code",
   "execution_count": null,
   "metadata": {},
   "outputs": [],
   "source": [
    "fig = plt.figure(figsize=(8,8))\n",
    "ax = fig.gca()\n",
    "ax.set_xticks(np.arange(-500, 500, 100))\n",
    "ax.set_yticks(np.arange(500, 1500, 100))\n",
    "\n",
    "plt.scatter(mesh_x_1*1e3,mesh_y_1*1e3, s =.002, c=mesh_light, cmap='hot',zorder = 2)\n",
    "plt.plot(SSSbh[0][0],SSSbh[1][0], color = '#d3d3d3',zorder=1)\n",
    "plt.plot(SSSbh[2][0],SSSbh[3][0], color = '#ffd1d1',zorder=1)\n",
    "ax.set_xlabel(r'$\\theta_{x}$ [mas]')\n",
    "ax.set_ylabel(r'$\\theta_{y}$ [mas]')\n",
    "\n",
    "plt.scatter(x1*1e3, y1*1e3, s = 10 , color = 'blue', zorder = 4)\n",
    "plt.gca().set_aspect('equal', adjustable='box')\n",
    "plt.scatter(x_image_bh_3*1e3, y_image_bh_3*1e3, c=light_bh_3, cmap='hot', s = 2, zorder = 3)\n",
    "ax.set_xlim([-500, 500])\n",
    "ax.set_ylim([500, 1500])\n",
    "plt.grid(zorder = 1)\n",
    "plt.show()"
   ]
  },
  {
   "cell_type": "markdown",
   "metadata": {},
   "source": [
    "## Lets make a smaller jet"
   ]
  },
  {
   "cell_type": "code",
   "execution_count": null,
   "metadata": {},
   "outputs": [],
   "source": [
    "def image_position(source):\n",
    "    x_s, y_s,light = source\n",
    "    x_pre, y_pre = lensEquationSolver.image_position_from_source(kwargs_lens=kwargs_lens_list, \\\n",
    "                    sourcePos_x=x_s, sourcePos_y=y_s, min_distance=.5e-3, search_window=.7, \\\n",
    "                    precision_limit=10**(-8), num_iter_max=100,non_linear=True)\n",
    "    light_pre = []\n",
    "    for k in range(len(x_pre)):\n",
    "        light_pre = np.append(light_pre,light)\n",
    "    return x_pre, y_pre, light_pre"
   ]
  },
  {
   "cell_type": "code",
   "execution_count": null,
   "metadata": {},
   "outputs": [],
   "source": [
    "rj = np.linspace(0,1e-3,70)\n",
    "\n",
    "jet__x = []\n",
    "jet__y = []\n",
    "jet__light = []\n",
    "for r in range(len(rj)):\n",
    "    n = int(rj[r]/1e-3*100)\n",
    "    #n = 350\n",
    "    theta = np.linspace(0,2*np.pi,n)\n",
    "    xarray = 6*rj[r]*np.cos(theta)\n",
    "    yarray = 2*rj[r]*np.sin(theta)\n",
    "    light = np.exp(-rj[r]**2)\n",
    "    light_arr = np.full((n, ), light)\n",
    "    \n",
    "    for j in xarray:\n",
    "        jet__x.append(j)\n",
    "    for j in yarray:\n",
    "        jet__y.append(j)\n",
    "    for j in light_arr:\n",
    "        jet__light.append(j)\n",
    "\n",
    "jet__x = np.array(jet__x)\n",
    "jet__y = np.array(jet__y)\n",
    "jet__light = np.array(jet__light)"
   ]
  },
  {
   "cell_type": "code",
   "execution_count": null,
   "metadata": {},
   "outputs": [],
   "source": [
    "fig = plt.figure(figsize=(12,12))\n",
    "ax = fig.gca()\n",
    "\n",
    "plt.scatter(jet__x*1e3, jet__y*1e3, s = .5,  c =jet__light, cmap='hot')\n",
    "plt.gca().set_aspect('equal', adjustable='box')\n",
    "ax.set_xlabel(r'$\\theta_{x}$ [mas]')\n",
    "ax.set_ylabel(r'$\\theta_{y}$ [mas]')\n",
    "plt.show()"
   ]
  },
  {
   "cell_type": "code",
   "execution_count": null,
   "metadata": {},
   "outputs": [],
   "source": [
    "jet_x = jet__x + .25\n",
    "jet_y = jet__y + .25 \n",
    "jet_light = jet__light"
   ]
  },
  {
   "cell_type": "code",
   "execution_count": null,
   "metadata": {},
   "outputs": [],
   "source": [
    "x1 = -0.26631755 + 2e-3\n",
    "y1 = -0.26631755 "
   ]
  },
  {
   "cell_type": "markdown",
   "metadata": {},
   "source": [
    "### $ M_3 = 10^5 M_\\odot$"
   ]
  },
  {
   "cell_type": "code",
   "execution_count": null,
   "metadata": {},
   "outputs": [],
   "source": [
    "kwargs = {'theta_E':theta_E_num.value,'eta':0*elipt, 'theta_E_1':theta_E_3.value, 'x1':x1, 'y1':y1}\n",
    "kwargs_lens_list = [kwargs]"
   ]
  },
  {
   "cell_type": "code",
   "execution_count": null,
   "metadata": {},
   "outputs": [],
   "source": [
    "x_image_jet_1, y_image_jet_1, light_jet_1 = main(jet_x,jet_y,jet_light)"
   ]
  },
  {
   "cell_type": "code",
   "execution_count": null,
   "metadata": {},
   "outputs": [],
   "source": [
    "fig = plt.figure(figsize=(8,8))\n",
    "ax = fig.gca()\n",
    "\n",
    "ax.set_xlabel(r'$\\theta_{x}$ [arcsec]')\n",
    "ax.set_ylabel(r'$\\theta_{y}$ [arcsec]')\n",
    "plt.scatter(x_image_jet_1, y_image_jet_1, c=light_jet_1, cmap='hot', s = 2, zorder = 3)\n",
    "plt.scatter(x1, y1, s = 10, color = 'blue', zorder = 4)\n",
    "\n",
    "ax.set_xticks(np.arange(-.8, .8, .4))\n",
    "ax.set_yticks(np.arange(-.8, .8, .4))\n",
    "plt.scatter(jet_x,jet_y, s =.002, c=jet_light, cmap='hot',zorder = 2)\n",
    "plt.plot(SSSbh[0][0],SSSbh[1][0], color = '#d3d3d3',zorder=1)\n",
    "plt.plot(SSSbh[2][0],SSSbh[3][0], color = '#ffd1d1',zorder=1)\n",
    "\n",
    "plt.grid(zorder = 1)\n",
    "plt.gca().set_aspect('equal', adjustable='box')\n",
    "plt.show()"
   ]
  },
  {
   "cell_type": "code",
   "execution_count": null,
   "metadata": {},
   "outputs": [],
   "source": [
    "x0 = y0 = - 0.26631755\n",
    "\n",
    "x_image_jet_1_ = x_image_jet_1 - x0\n",
    "y_image_jet_1_ = y_image_jet_1 - y0\n",
    "x1_ = x1 - x0\n",
    "y1_ = y1 - y0"
   ]
  },
  {
   "cell_type": "code",
   "execution_count": null,
   "metadata": {},
   "outputs": [],
   "source": [
    "fig = plt.figure(figsize=(8,8))\n",
    "ax = fig.gca()\n",
    "\n",
    "ax.set_xlabel(r'$\\theta_{x}$ [mas]')\n",
    "ax.set_ylabel(r'$\\theta_{y}$ [mas]')\n",
    "plt.scatter(x_image_jet_1_*1e3, y_image_jet_1_*1e3, c=light_jet_1, cmap='hot', s = 2, zorder = 3)\n",
    "plt.scatter(x1_*1e3, y1_*1e3, s = 10, color = 'blue', zorder = 4)\n",
    "ax.set_xticks(np.arange(-10, 10, 4))\n",
    "ax.set_yticks(np.arange(-10, 10, 4))\n",
    "plt.grid(zorder = 1)\n",
    "plt.gca().set_aspect('equal', adjustable='box')\n",
    "ax.set_xlim([-10, 10])\n",
    "ax.set_ylim([-10, 10])\n",
    "plt.show()"
   ]
  },
  {
   "cell_type": "markdown",
   "metadata": {},
   "source": [
    "### $ M_4 = 10^6 M_\\odot$"
   ]
  },
  {
   "cell_type": "code",
   "execution_count": null,
   "metadata": {},
   "outputs": [],
   "source": [
    "kwargs = {'theta_E':theta_E_num.value,'eta':0*elipt, 'theta_E_1':theta_E_4.value, 'x1':x1, 'y1':y1}\n",
    "kwargs_lens_list = [kwargs]"
   ]
  },
  {
   "cell_type": "code",
   "execution_count": null,
   "metadata": {
    "scrolled": true
   },
   "outputs": [],
   "source": [
    "x_image_jet_2, y_image_jet_2, light_jet_2 = main(jet_x,jet_y,jet_light)"
   ]
  },
  {
   "cell_type": "code",
   "execution_count": null,
   "metadata": {},
   "outputs": [],
   "source": [
    "fig = plt.figure(figsize=(8,8))\n",
    "ax = fig.gca()\n",
    "\n",
    "ax.set_xlabel(r'$\\theta_{x}$ [arcsec]')\n",
    "ax.set_ylabel(r'$\\theta_{y}$ [arcsec]')\n",
    "plt.scatter(x_image_jet_2, y_image_jet_2, c=light_jet_2, cmap='hot', s = 2, zorder = 3)\n",
    "plt.scatter(x1, y1, s = 10, color = 'blue', zorder = 4)\n",
    "\n",
    "ax.set_xticks(np.arange(-.8, .8, .4))\n",
    "ax.set_yticks(np.arange(-.8, .8, .4))\n",
    "plt.scatter(jet_x,jet_y, s =.002, c=jet_light, cmap='hot',zorder = 2)\n",
    "plt.plot(SSSbh[0][0],SSSbh[1][0], color = '#d3d3d3',zorder=1)\n",
    "plt.plot(SSSbh[2][0],SSSbh[3][0], color = '#ffd1d1',zorder=1)\n",
    "\n",
    "plt.grid(zorder = 1)\n",
    "plt.gca().set_aspect('equal', adjustable='box')\n",
    "plt.show()"
   ]
  },
  {
   "cell_type": "code",
   "execution_count": null,
   "metadata": {},
   "outputs": [],
   "source": [
    "x0 = y0 = - 0.26631755\n",
    "\n",
    "x_image_jet_2_ = x_image_jet_2 - x0\n",
    "y_image_jet_2_ = y_image_jet_2 - y0\n",
    "x1_ = x1 - x0\n",
    "y1_ = y1 - y0"
   ]
  },
  {
   "cell_type": "code",
   "execution_count": null,
   "metadata": {},
   "outputs": [],
   "source": [
    "fig = plt.figure(figsize=(8,8))\n",
    "ax = fig.gca()\n",
    "\n",
    "ax.set_xlabel(r'$\\theta_{x}$ [mas]')\n",
    "ax.set_ylabel(r'$\\theta_{y}$ [mas]')\n",
    "plt.scatter(x_image_jet_2_*1e3, y_image_jet_2_*1e3, c=light_jet_2, cmap='hot', s = 2, zorder = 3)\n",
    "plt.scatter(x1_*1e3, y1_*1e3, s = 10, color = 'blue', zorder = 4)\n",
    "plt.grid(zorder = 1)\n",
    "plt.gca().set_aspect('equal', adjustable='box')\n",
    "ax.set_xticks(np.arange(-10, 10, 4))\n",
    "ax.set_yticks(np.arange(-10, 10, 4))\n",
    "ax.set_xlim([-10, 10])\n",
    "ax.set_ylim([-10, 10])\n",
    "plt.show()"
   ]
  },
  {
   "cell_type": "markdown",
   "metadata": {},
   "source": [
    "### Two black holes of $ M_4 = 10^6 M_\\odot$"
   ]
  },
  {
   "cell_type": "code",
   "execution_count": null,
   "metadata": {},
   "outputs": [],
   "source": [
    "x2 = -0.26631755 - 2e-3\n",
    "y2 = -0.26631755 - 4e-3"
   ]
  },
  {
   "cell_type": "code",
   "execution_count": null,
   "metadata": {},
   "outputs": [],
   "source": [
    "lens_model_list = ['SIEBH2']\n",
    "lensModel = LensModel(lens_model_list)\n",
    "lensEquationSolver = LensEquationSolver(lensModel)"
   ]
  },
  {
   "cell_type": "code",
   "execution_count": null,
   "metadata": {},
   "outputs": [],
   "source": [
    "kwargs = {'theta_E':theta_E_num.value,'eta':0*elipt, 'theta_E_1':theta_E_4.value, 'x1':x1, 'y1':y1, 'theta_E_2':theta_E_4.value, 'x2':x2, 'y2':y2}\n",
    "kwargs_lens_list = [kwargs]"
   ]
  },
  {
   "cell_type": "code",
   "execution_count": null,
   "metadata": {
    "scrolled": true
   },
   "outputs": [],
   "source": [
    "x_image_jet_3, y_image_jet_3, light_jet_3 = main(jet_x,jet_y,jet_light)"
   ]
  },
  {
   "cell_type": "code",
   "execution_count": null,
   "metadata": {},
   "outputs": [],
   "source": [
    "x0 = y0 = - 0.26631755\n",
    "\n",
    "x_image_jet_3_ = x_image_jet_3 - x0\n",
    "y_image_jet_3_ = y_image_jet_3 - y0\n",
    "x1_ = x1 - x0\n",
    "y1_ = y1 - y0\n",
    "x2_ = x2 - x0\n",
    "y2_ = y2 - y0"
   ]
  },
  {
   "cell_type": "code",
   "execution_count": null,
   "metadata": {},
   "outputs": [],
   "source": [
    "fig = plt.figure(figsize=(8,8))\n",
    "ax = fig.gca()\n",
    "\n",
    "ax.set_xlabel(r'$\\theta_{x}$ [mas]')\n",
    "ax.set_ylabel(r'$\\theta_{y}$ [mas]')\n",
    "plt.scatter(x_image_jet_3_*1e3, y_image_jet_3_*1e3, c=light_jet_3, cmap='hot', s = 2, zorder = 1)\n",
    "plt.scatter(x1_*1e3, y1_*1e3, s = 10, color = 'blue', zorder = 4)\n",
    "plt.scatter(x2_*1e3, y2_*1e3, s = 10, color = 'blue', zorder = 4)\n",
    "plt.grid(zorder = 8)\n",
    "plt.gca().set_aspect('equal', adjustable='box')\n",
    "ax.set_xticks(np.arange(-10, 10, 1))\n",
    "ax.set_yticks(np.arange(-10, 10, 1))\n",
    "plt.text(-2, -6,'1', fontsize = 16)\n",
    "plt.text(1.5, -2,'2', fontsize = 16)\n",
    "plt.text(5, 4.5,'3', fontsize = 16)\n",
    "ax.set_xlim([-10, 10])\n",
    "ax.set_ylim([-10, 10])\n",
    "plt.show()"
   ]
  },
  {
   "cell_type": "code",
   "execution_count": null,
   "metadata": {},
   "outputs": [],
   "source": [
    "#blobs position\n",
    "b1x = -3.5e-3 + x0 ; b1y = -2e-3 + y0\n",
    "b2x = 0 + x0 ; b2y = -1.5e-3 + y0\n",
    "b3x = 3.5e-3 + x0 ; b3y = 2.5e-3 + y0"
   ]
  },
  {
   "cell_type": "code",
   "execution_count": null,
   "metadata": {},
   "outputs": [],
   "source": [
    "from lenstronomy.LensModel.Profiles.sie_black_hole_2 import SIEBH2\n",
    "perfil = SIEBH2()\n",
    "\n",
    "t ; phi = [0,0,0]\n",
    "\n",
    "b1x_s = b1x - SIEBH2.derivatives(perfil, b1x, b1y, theta_E_num.value, 0*elipt, theta_E_4.value, x1, y1, theta_E_4.value, x2, y2)[0] #source position corresponding to the image\n",
    "b1y_s = b1x - SIEBH2.derivatives(perfil, b1x, b1y, theta_E_num.value, 0*elipt, theta_E_4.value, x1, y1, theta_E_4.value, x2, y2)[1] #source position corresponding to the image\n",
    "phi[0] = SIEBH2.function(perfil, b1x, b1y, theta_E_num.value, 0*elipt, theta_E_4.value, x1, y1, theta_E_4.value, x2, y2)\n",
    "t[0] = ((1+zl)/c_light*Ds*Dl/Dls*( 1/2*( (b1x_s - b1x )**2 + (b1y_s - b1y)**2) - phi[0]**2)*(u.arcsec**2).to('rad**2')).to('s').value\n",
    "\n",
    "b2x_s = b2x - SIEBH2.derivatives(perfil, b2x, b2y, theta_E_num.value, 0*elipt, theta_E_4.value, x1, y1, theta_E_4.value, x2, y2)[0] #source position corresponding to the image\n",
    "b2y_s = b2x - SIEBH2.derivatives(perfil, b2x, b2y, theta_E_num.value, 0*elipt, theta_E_4.value, x1, y1, theta_E_4.value, x2, y2)[1] #source position corresponding to the image\n",
    "phi[1] = SIEBH2.function(perfil, b2x, b2y, theta_E_num.value, 0*elipt, theta_E_4.value, x1, y1, theta_E_4.value, x2, y2)\n",
    "t[1] = ((1+zl)/c_light*Ds*Dl/Dls*( 1/2*( (b2x_s - b2x )**2 + (b2y_s - b2y)**2) - phi[1]**2)*(u.arcsec**2).to('rad**2')).to('s').value\n",
    "\n",
    "b3x_s = b3x - SIEBH2.derivatives(perfil, b3x, b3y, theta_E_num.value, 0*elipt, theta_E_4.value, x1, y1, theta_E_4.value, x2, y2)[0] #source position corresponding to the image\n",
    "b3y_s = b3x - SIEBH2.derivatives(perfil, b3x, b3y, theta_E_num.value, 0*elipt, theta_E_4.value, x1, y1, theta_E_4.value, x2, y2)[1] #source position corresponding to the image\n",
    "phi[2] = SIEBH2.function(perfil, b3x, b3y, theta_E_num.value, 0*elipt, theta_E_4.value, x1, y1, theta_E_4.value, x2, y2)\n",
    "t[2] = ((1+zl)/c_light*Ds*Dl/Dls*( 1/2*( (b3x_s - b3x )**2 + (b3y_s - b3y)**2) - phi[2]**2)*(u.arcsec**2).to('rad**2')).to('s').value\n",
    "\n",
    "\n",
    "print(np.array(t)/60)\n",
    "\n",
    "dt1 = np.abs(t[2] - t[0])/60 #convert seconds to hours\n",
    "dt2 = np.abs(t[1] - t[2])/60\n",
    "print(int(dt1), 'hs between first and second blob')\n",
    "print(int(dt2), 'hs between second and third blob')"
   ]
  },
  {
   "cell_type": "markdown",
   "metadata": {},
   "source": [
    "## Two binary black holes"
   ]
  },
  {
   "cell_type": "code",
   "execution_count": null,
   "metadata": {},
   "outputs": [],
   "source": [
    "x1 = x0 + 1e-3\n",
    "y1 = y0 -.5e-3\n",
    "x2 = x0 \n",
    "y2 = y0 -.5e-3"
   ]
  },
  {
   "cell_type": "code",
   "execution_count": null,
   "metadata": {},
   "outputs": [],
   "source": [
    "lens_model_list = ['SIEBH2']\n",
    "lensModel = LensModel(lens_model_list)\n",
    "lensEquationSolver = LensEquationSolver(lensModel)"
   ]
  },
  {
   "cell_type": "code",
   "execution_count": null,
   "metadata": {},
   "outputs": [],
   "source": [
    "kwargs = {'theta_E':theta_E_num.value,'eta':0*elipt, 'theta_E_1':theta_E_4.value, 'x1':x1, 'y1':y1, 'theta_E_2':theta_E_4.value, 'x2':x2, 'y2':y2}\n",
    "kwargs_lens_list = [kwargs]"
   ]
  },
  {
   "cell_type": "code",
   "execution_count": null,
   "metadata": {
    "scrolled": true
   },
   "outputs": [],
   "source": [
    "x_image_jet_4, y_image_jet_4, light_jet_4 = main(jet_x,jet_y,jet_light)"
   ]
  },
  {
   "cell_type": "code",
   "execution_count": null,
   "metadata": {},
   "outputs": [],
   "source": [
    "x_image_jet_4_ = x_image_jet_4 - x0\n",
    "y_image_jet_4_ = y_image_jet_4 - y0\n",
    "x1_ = x1 - x0\n",
    "y1_ = y1 - y0\n",
    "x2_ = x2 - x0\n",
    "y2_ = y2 - y0"
   ]
  },
  {
   "cell_type": "code",
   "execution_count": null,
   "metadata": {},
   "outputs": [],
   "source": [
    "fig = plt.figure(figsize=(8,8))\n",
    "ax = fig.gca()\n",
    "\n",
    "ax.set_xlabel(r'$\\theta_{x}$ [mas]')\n",
    "ax.set_ylabel(r'$\\theta_{y}$ [mas]')\n",
    "plt.scatter(x_image_jet_4_*1e3, y_image_jet_4_*1e3, c=light_jet_4, cmap='hot', s = 2, zorder = 1)\n",
    "plt.scatter(x1_*1e3, y1_*1e3, s = 10, color = 'blue', zorder = 4)\n",
    "plt.scatter(x2_*1e3, y2_*1e3, s = 10, color = 'blue', zorder = 4)\n",
    "plt.grid(zorder = 8)\n",
    "plt.gca().set_aspect('equal', adjustable='box')\n",
    "ax.set_xticks(np.arange(-10, 10, 1))\n",
    "ax.set_yticks(np.arange(-10, 10, 1))\n",
    "ax.set_xlim([-10, 10])\n",
    "ax.set_ylim([-10, 10])\n",
    "plt.show()"
   ]
  },
  {
   "cell_type": "markdown",
   "metadata": {},
   "source": [
    "### $ M_1 = 10^3 M_\\odot$"
   ]
  },
  {
   "cell_type": "code",
   "execution_count": 131,
   "metadata": {},
   "outputs": [],
   "source": [
    "def image_position(source):\n",
    "    x_s, y_s,light = source\n",
    "    x_pre, y_pre = lensEquationSolver.image_position_from_source(kwargs_lens=kwargs_lens_list, \\\n",
    "                    sourcePos_x=x_s, sourcePos_y=y_s, min_distance=.1e-3, search_window=.15, \\\n",
    "                    precision_limit=10**(-8), num_iter_max=100,non_linear=True)\n",
    "    light_pre = []\n",
    "    for k in range(len(x_pre)):\n",
    "        light_pre = np.append(light_pre,light)\n",
    "    return x_pre, y_pre, light_pre"
   ]
  },
  {
   "cell_type": "code",
   "execution_count": 132,
   "metadata": {},
   "outputs": [],
   "source": [
    "rj = np.linspace(0,.1e-3,30)\n",
    "\n",
    "jet__x = []\n",
    "jet__y = []\n",
    "jet__light = []\n",
    "for r in range(len(rj)):\n",
    "    n = int(rj[r]/1e-3*300)\n",
    "    #n = 350\n",
    "    theta = np.linspace(0,2*np.pi,n)\n",
    "    xarray = 1*rj[r]*np.cos(theta)\n",
    "    yarray = .5*rj[r]*np.sin(theta)\n",
    "    light = np.exp(-rj[r]**2)\n",
    "    light_arr = np.full((n, ), light)\n",
    "    \n",
    "    for j in xarray:\n",
    "        jet__x.append(j)\n",
    "    for j in yarray:\n",
    "        jet__y.append(j)\n",
    "    for j in light_arr:\n",
    "        jet__light.append(j)\n",
    "\n",
    "jet__x = np.array(jet__x)\n",
    "jet__y = np.array(jet__y)\n",
    "jet__light = np.array(jet__light)"
   ]
  },
  {
   "cell_type": "code",
   "execution_count": 133,
   "metadata": {},
   "outputs": [
    {
     "data": {
      "image/png": "[encoded data removed]",
      "text/plain": [
       "<Figure size 1200x1200 with 1 Axes>"
      ]
     },
     "metadata": {},
     "output_type": "display_data"
    }
   ],
   "source": [
    "fig = plt.figure(figsize=(12,12))\n",
    "ax = fig.gca()\n",
    "\n",
    "plt.scatter(jet__x*1e3, jet__y*1e3, s = .5,  c =jet__light, cmap='hot')\n",
    "plt.gca().set_aspect('equal', adjustable='box')\n",
    "ax.set_xlabel(r'$\\theta_{x}$ [mas]')\n",
    "ax.set_ylabel(r'$\\theta_{y}$ [mas]')\n",
    "plt.show()"
   ]
  },
  {
   "cell_type": "code",
   "execution_count": 134,
   "metadata": {},
   "outputs": [
    {
     "data": {
      "text/plain": [
       "436"
      ]
     },
     "execution_count": 134,
     "metadata": {},
     "output_type": "execute_result"
    }
   ],
   "source": [
    "len(jet__x)"
   ]
  },
  {
   "cell_type": "code",
   "execution_count": 135,
   "metadata": {},
   "outputs": [],
   "source": [
    "jet_x = jet__x + .45\n",
    "jet_y = jet__y + .45 \n",
    "jet_light = jet__light"
   ]
  },
  {
   "cell_type": "code",
   "execution_count": 136,
   "metadata": {},
   "outputs": [],
   "source": [
    "x1 = -0.06630 - .05e-3\n",
    "y1 = -0.0662868 \n",
    "x2 = -0.06630 + .05e-3\n",
    "y2 = -0.0662868 "
   ]
  },
  {
   "cell_type": "code",
   "execution_count": 137,
   "metadata": {},
   "outputs": [],
   "source": [
    "lens_model_list = ['SIEBH2']\n",
    "lensModel = LensModel(lens_model_list)\n",
    "lensEquationSolver = LensEquationSolver(lensModel)"
   ]
  },
  {
   "cell_type": "code",
   "execution_count": 138,
   "metadata": {},
   "outputs": [],
   "source": [
    "kwargs = {'theta_E':theta_E_num.value,'eta':0*elipt, 'theta_E_1':theta_E_1.value, 'x1':x1, 'y1':y1, 'theta_E_2':theta_E_1.value, 'x2':x2, 'y2':y2}\n",
    "kwargs_lens_list = [kwargs]"
   ]
  },
  {
   "cell_type": "code",
   "execution_count": 139,
   "metadata": {},
   "outputs": [
    {
     "name": "stdout",
     "output_type": "stream",
     "text": [
      "time:  3.0475020011266074  minutes\n"
     ]
    }
   ],
   "source": [
    "x_image_jet_5, y_image_jet_5, light_jet_5 = main(jet_x,jet_y,jet_light)"
   ]
  },
  {
   "cell_type": "code",
   "execution_count": 140,
   "metadata": {
    "scrolled": false
   },
   "outputs": [
    {
     "data": {
      "image/png": "[encoded data removed]",
      "text/plain": [
       "<Figure size 800x800 with 1 Axes>"
      ]
     },
     "metadata": {},
     "output_type": "display_data"
    }
   ],
   "source": [
    "fig = plt.figure(figsize=(8,8))\n",
    "ax = fig.gca()\n",
    "\n",
    "ax.set_xlabel(r'$\\theta_{x}$ [arcsec]')\n",
    "ax.set_ylabel(r'$\\theta_{y}$ [arcsec]')\n",
    "plt.scatter(x_image_jet_5, y_image_jet_5, c=light_jet_5, cmap='hot', s = 2, zorder = 3)\n",
    "plt.scatter(x1, y1, s = 10, color = 'blue', zorder = 4)\n",
    "plt.scatter(x2, y2, s = 10, color = 'blue', zorder = 4)\n",
    "\n",
    "ax.set_xticks(np.arange(-.8, .8, .4))\n",
    "ax.set_yticks(np.arange(-.8, .8, .4))\n",
    "plt.scatter(jet_x,jet_y, s =.002, c=jet_light, cmap='hot',zorder = 2)\n",
    "# plt.plot(SSSbh[0][0],SSSbh[1][0], color = '#d3d3d3',zorder=1)\n",
    "# plt.plot(SSSbh[2][0],SSSbh[3][0], color = '#ffd1d1',zorder=1)\n",
    "\n",
    "plt.grid(zorder = 1)\n",
    "plt.gca().set_aspect('equal', adjustable='box')\n",
    "plt.show()"
   ]
  },
  {
   "cell_type": "code",
   "execution_count": 141,
   "metadata": {},
   "outputs": [],
   "source": [
    "x0 = -.0662968\n",
    "y0 = -.0663026\n",
    "\n",
    "x_image_jet_5_ = x_image_jet_5 - x0\n",
    "y_image_jet_5_ = y_image_jet_5 - y0\n",
    "x1_ = x1 - x0\n",
    "y1_ = y1 - y0\n",
    "x2_ = x2 - x0\n",
    "y2_ = y2 - y0\n"
   ]
  },
  {
   "cell_type": "code",
   "execution_count": 142,
   "metadata": {},
   "outputs": [
    {
     "data": {
      "image/png": "[encoded data removed]",
      "text/plain": [
       "<Figure size 800x800 with 1 Axes>"
      ]
     },
     "metadata": {},
     "output_type": "display_data"
    }
   ],
   "source": [
    "fig = plt.figure(figsize=(8,8))\n",
    "ax = fig.gca()\n",
    "\n",
    "ax.set_xlabel(r'$\\theta_{x}$ [mas]')\n",
    "ax.set_ylabel(r'$\\theta_{y}$ [mas]')\n",
    "plt.scatter(x_image_jet_5_*1e3, y_image_jet_5_*1e3, c=light_jet_5, cmap='hot', s = 2, zorder = 3)\n",
    "plt.scatter(x1_*1e3, y1_*1e3, s = 10, color = 'blue', zorder = 4)\n",
    "plt.scatter(x2_*1e3, y2_*1e3, s = 10, color = 'blue', zorder = 4)\n",
    "ax.set_xticks(np.arange(-.3, .3, .1))\n",
    "ax.set_yticks(np.arange(-.3, .3, .1))\n",
    "plt.grid(zorder = 1)\n",
    "plt.gca().set_aspect('equal', adjustable='box')\n",
    "ax.set_xlim([-.25, .25])\n",
    "ax.set_ylim([-.25, .25])\n",
    "plt.show()"
   ]
  },
  {
   "cell_type": "code",
   "execution_count": 144,
   "metadata": {},
   "outputs": [],
   "source": [
    "#blobs position\n",
    "b1x = x0 - -.1e-3 ; b1y = y0 - -.1e-3\n",
    "b2x = x0 - .1e-3 ; b2y = y0 - .1e-3"
   ]
  },
  {
   "cell_type": "code",
   "execution_count": 148,
   "metadata": {},
   "outputs": [
    {
     "name": "stdout",
     "output_type": "stream",
     "text": [
      "[11436.09947107 11442.8988024 ]\n",
      "6 hs between first and second blob\n"
     ]
    }
   ],
   "source": [
    "from lenstronomy.LensModel.Profiles.sie_black_hole_2 import SIEBH2\n",
    "perfil = SIEBH2()\n",
    "\n",
    "t = [0,0]\n",
    "phi = [0,0]\n",
    "\n",
    "b1x_s = b1x - SIEBH2.derivatives(perfil, b1x, b1y, theta_E_num.value, 0*elipt, theta_E_1.value, x1, y1, theta_E_1.value, x2, y2)[0] #source position corresponding to the image\n",
    "b1y_s = b1x - SIEBH2.derivatives(perfil, b1x, b1y, theta_E_num.value, 0*elipt, theta_E_1.value, x1, y1, theta_E_1.value, x2, y2)[1] #source position corresponding to the image\n",
    "phi[0] = SIEBH2.function(perfil, b1x, b1y, theta_E_num.value, 0*elipt, theta_E_4.value, x1, y1, theta_E_4.value, x2, y2)\n",
    "t[0] = ((1+zl)/c_light*Ds*Dl/Dls*( 1/2*( (b1x_s - b1x )**2 + (b1y_s - b1y)**2) - phi[0]**2)*(u.arcsec**2).to('rad**2')).to('s').value\n",
    "\n",
    "b2x_s = b2x - SIEBH2.derivatives(perfil, b2x, b2y, theta_E_num.value, 0*elipt, theta_E_1.value, x1, y1, theta_E_1.value, x2, y2)[0] #source position corresponding to the image\n",
    "b2y_s = b2x - SIEBH2.derivatives(perfil, b2x, b2y, theta_E_num.value, 0*elipt, theta_E_1.value, x1, y1, theta_E_1.value, x2, y2)[1] #source position corresponding to the image\n",
    "phi[1] = SIEBH2.function(perfil, b2x, b2y, theta_E_num.value, 0*elipt, theta_E_4.value, x1, y1, theta_E_4.value, x2, y2)\n",
    "t[1] = ((1+zl)/c_light*Ds*Dl/Dls*( 1/2*( (b2x_s - b2x )**2 + (b2y_s - b2y)**2) - phi[1]**2)*(u.arcsec**2).to('rad**2')).to('s').value\n",
    "\n",
    "\n",
    "print(np.array(t)/60)\n",
    "\n",
    "dt1 = np.abs(t[1] - t[0])/60 #convert seconds to hours\n",
    "print(int(dt1), 'hs between first and second blob')"
   ]
  },
  {
   "cell_type": "code",
   "execution_count": null,
   "metadata": {},
   "outputs": [],
   "source": []
  },
  {
   "cell_type": "code",
   "execution_count": null,
   "metadata": {},
   "outputs": [],
   "source": [
    "end_total = time.time()\n",
    "print('total time: ',(end_total-start_total)/60.,' minutes')"
   ]
  }
 ],
 "metadata": {
  "kernelspec": {
   "display_name": "Python 3",
   "language": "python",
   "name": "python3"
  },
  "language_info": {
   "codemirror_mode": {
    "name": "ipython",
    "version": 3
   },
   "file_extension": ".py",
   "mimetype": "text/x-python",
   "name": "python",
   "nbconvert_exporter": "python",
   "pygments_lexer": "ipython3",
   "version": "3.8.8"
  }
 },
 "nbformat": 4,
 "nbformat_minor": 4
}
