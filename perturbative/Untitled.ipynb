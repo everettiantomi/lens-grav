{
 "cells": [
  {
   "cell_type": "code",
   "execution_count": 1,
   "id": "bbe1d077",
   "metadata": {},
   "outputs": [],
   "source": [
    "import numpy as np\n",
    "import matplotlib.pyplot as plt\n",
    "from matplotlib.widgets import Slider, Button\n",
    "from matplotlib import cm\n",
    "from matplotlib.patches import Circle\n",
    "from astropy import units as u\n",
    "from astropy import constants as const\n",
    "from jupyterthemes import jtplot #These two lines can be skipped if you are not using jupyter themes\n",
    "jtplot.reset()\n",
    "\n",
    "from astropy.cosmology import FlatLambdaCDM\n",
    "cosmo = FlatLambdaCDM(H0=67.4, Om0=0.314)\n",
    "import scipy as sp\n",
    "import multiprocessing as mp\n",
    "\n",
    "import time\n",
    "start_total = time.time()\n",
    "\n",
    "from plasma_jet_class import sieplasmajet\n",
    "\n",
    "%matplotlib notebook\n",
    "\n",
    "import warnings\n",
    "warnings.filterwarnings('ignore')"
   ]
  },
  {
   "cell_type": "code",
   "execution_count": 2,
   "id": "8882e8e8",
   "metadata": {},
   "outputs": [
    {
     "name": "stdout",
     "output_type": "stream",
     "text": [
      "Dl:  705.4019455128785 Mpc\n",
      "Ds:  1760.3796178766652 Mpc\n",
      "Dls:  1375.6149203241862 Mpc\n",
      "G:  6.6743e-11 m3 / (kg s2)\n",
      "rho_crit : 1.0483397591328813e-26 kg / m3\n",
      "c_light : 29979245800.0 cm / s\n",
      "r0: 10.0 kpc\n",
      "scale radius (m):  7.705329461274929e+19 m\n",
      "scale radius (kpc):  2.49712721364453 kpc\n",
      "theta_E_g:  0.7301786792241515 arcsec\n",
      "Classic electron radius:  2.817940324670788e-15 m\n"
     ]
    }
   ],
   "source": [
    "zl = 0.2; zs = 1.2\n",
    "\n",
    "Dl = cosmo.angular_diameter_distance(zl)   \n",
    "Ds = cosmo.angular_diameter_distance(zs)    \n",
    "Dls = cosmo.angular_diameter_distance_z1z2(zl, zs)\n",
    "\n",
    "print('Dl: ',Dl); print('Ds: ',Ds); print('Dls: ',Dls)\n",
    "print('G: ',(const.G).value ,(const.G).unit)\n",
    "G = const.G\n",
    "rho_crit = (cosmo.critical_density(zl)).to(u.kg/u.m**3)\n",
    "print('rho_crit :',rho_crit)\n",
    "c_light = (const.c).to(u.cm/u.second)\n",
    "print('c_light :', c_light)\n",
    "\n",
    "#r0 = 10*u.kpc\n",
    "r0 = 10.0*u.kpc\n",
    "#r0 = 0.1*u.kpc\n",
    "print('r0:', r0)\n",
    "pi = np.pi\n",
    "\n",
    "def scale_radius(v,Dl,Ds,Dls):                               #this is e0 in eq 3.42 meneghetti, eq 1 barnacka 2014\n",
    "    return (4.*pi*v**2/c_light**2*Dl*Dls/Ds).decompose()\n",
    "def theta_E_SIS():\n",
    "    'in arcsec'\n",
    "    pre_theta_E = (scale_radius(v,Dl,Ds,Dls)/Dl).decompose()\n",
    "    return pre_theta_E*u.rad.to('arcsec', equivalencies=u.dimensionless_angles())\n",
    "\n",
    "v = 180 *u.km/u.s\n",
    "ss_r = scale_radius(v,Dl,Ds,Dls) \n",
    "print('scale radius (m): ',ss_r)\n",
    "print('scale radius (kpc): ',ss_r.to(u.kpc))\n",
    "print('theta_E_g: ',theta_E_SIS() ,'arcsec')\n",
    "\n",
    "theta_E_g = theta_E_SIS()\n",
    "elipt = eta = 0.3\n",
    "re = (const.e.esu**2/const.m_e/(c_light**2)).decompose()\n",
    "print('Classic electron radius: ',re)"
   ]
  },
  {
   "cell_type": "code",
   "execution_count": 3,
   "id": "89b4d721",
   "metadata": {},
   "outputs": [
    {
     "name": "stdout",
     "output_type": "stream",
     "text": [
      "Angular scale radius (theta_0 = r0/Dl):  2.9240748137875747 arcsec\n"
     ]
    }
   ],
   "source": [
    "theta_0 = (r0/Dl).decompose()*u.rad.to('arcsec', equivalencies=u.dimensionless_angles()) \n",
    "print('Angular scale radius (theta_0 = r0/Dl): ',theta_0, 'arcsec')"
   ]
  },
  {
   "cell_type": "code",
   "execution_count": 4,
   "id": "133e4b74",
   "metadata": {},
   "outputs": [],
   "source": [
    "A = 2.00744300029693\n",
    "B = 1.5887225542022732\n",
    "C = 1.4308204791467736\n",
    "\n",
    "phi = np.linspace(0,2*np.pi, 3000)"
   ]
  },
  {
   "cell_type": "code",
   "execution_count": 5,
   "id": "5157a2fd",
   "metadata": {},
   "outputs": [],
   "source": [
    "eta = 0.3\n",
    "nu = 130.0 * u.MHz\n",
    "omega = nu*(1.+zl)*2*np.pi\n",
    "n0 = 300./(u.cm)**(3)\n",
    "\n",
    "psi0_plasma = (A*Dls/Ds/Dl*2*pi*c_light**2/omega**2*re*n0*r0 \\\n",
    "            *(u.rad**2).to('arcsec**2', equivalencies=u.dimensionless_angles()) ).decompose()\n",
    "\n",
    "psi0_plasma_num = psi0_plasma.value\n",
    "theta_E_g = theta_E_SIS().value\n",
    "theta_0_num = theta_0.value\n",
    "\n",
    "deltab_10 = 0\n",
    "deltab_20 = 0\n",
    "delta_rs = .07"
   ]
  },
  {
   "cell_type": "code",
   "execution_count": null,
   "id": "be280090",
   "metadata": {},
   "outputs": [],
   "source": [
    "sie_plasma = sieplasmajet(theta_E_g, eta, phi, psi0_plasma_num, theta_0_num, B, C, delta_rs, deltab_10, deltab_20)\n",
    "sie_plasma.psi_plasma_func()\n",
    "sie_plasma.delta_r()"
   ]
  }
 ],
 "metadata": {
  "kernelspec": {
   "display_name": "Python 3",
   "language": "python",
   "name": "python3"
  },
  "language_info": {
   "codemirror_mode": {
    "name": "ipython",
    "version": 3
   },
   "file_extension": ".py",
   "mimetype": "text/x-python",
   "name": "python",
   "nbconvert_exporter": "python",
   "pygments_lexer": "ipython3",
   "version": "3.8.8"
  }
 },
 "nbformat": 4,
 "nbformat_minor": 5
}
