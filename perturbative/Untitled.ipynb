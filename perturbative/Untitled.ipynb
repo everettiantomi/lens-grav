{
 "cells": [
  {
   "cell_type": "code",
   "execution_count": 8,
   "id": "9b72c43b",
   "metadata": {},
   "outputs": [],
   "source": [
    "import numpy as np\n",
    "from scipy.optimize import root_scalar\n",
    "import time\n",
    "from astropy import constants as const\n",
    "from astropy import units as u"
   ]
  },
  {
   "cell_type": "code",
   "execution_count": 2,
   "id": "88fbdaf6",
   "metadata": {},
   "outputs": [],
   "source": [
    "def f(x):\n",
    "    return x**2 - 1"
   ]
  },
  {
   "cell_type": "code",
   "execution_count": 3,
   "id": "140fccdc",
   "metadata": {},
   "outputs": [
    {
     "name": "stdout",
     "output_type": "stream",
     "text": [
      "8.296966552734375e-05\n",
      "1.0000000000004547 41 43\n"
     ]
    }
   ],
   "source": [
    "t1 = time.time()\n",
    "tomi = root_scalar(f, bracket=[0, 3], method='bisect')\n",
    "t2 = time.time()\n",
    "print(t2-t1)\n",
    "print(tomi.root , tomi.iterations, tomi.function_calls)"
   ]
  },
  {
   "cell_type": "code",
   "execution_count": 4,
   "id": "8fd1df67",
   "metadata": {},
   "outputs": [
    {
     "name": "stdout",
     "output_type": "stream",
     "text": [
      "0.0002307891845703125\n",
      "1.0 10 11\n"
     ]
    }
   ],
   "source": [
    "t1 = time.time()\n",
    "tomi = root_scalar(f, bracket=[0, 3], method='brentq') #evalúo una función que me devuelve un objeto\n",
    "t2 = time.time()\n",
    "print(t2-t1)\n",
    "print(tomi.root , tomi.iterations, tomi.function_calls)"
   ]
  },
  {
   "cell_type": "code",
   "execution_count": 9,
   "id": "c6cc43b2",
   "metadata": {},
   "outputs": [],
   "source": [
    "c_light = (const.c).to(u.cm/u.second)\n",
    "re = (const.e.esu**2/const.m_e/(c_light**2)).decompose()"
   ]
  },
  {
   "cell_type": "code",
   "execution_count": 22,
   "id": "14567a32",
   "metadata": {},
   "outputs": [
    {
     "data": {
      "text/latex": [
       "$2.56697 \\times 10^{-38} \\; \\mathrm{C^{2}}$"
      ],
      "text/plain": [
       "<Quantity 2.56696997e-38 C2>"
      ]
     },
     "execution_count": 22,
     "metadata": {},
     "output_type": "execute_result"
    }
   ],
   "source": [
    "const.e.si**2"
   ]
  },
  {
   "cell_type": "code",
   "execution_count": 25,
   "id": "416017ba",
   "metadata": {},
   "outputs": [
    {
     "data": {
      "text/latex": [
       "$9.1093837 \\times 10^{-31} \\; \\mathrm{kg}$"
      ],
      "text/plain": [
       "<<class 'astropy.constants.codata2018.CODATA2018'> name='Electron mass' value=9.1093837015e-31 uncertainty=2.8e-40 unit='kg' reference='CODATA 2018'>"
      ]
     },
     "execution_count": 25,
     "metadata": {},
     "output_type": "execute_result"
    }
   ],
   "source": [
    "const.m_e"
   ]
  },
  {
   "cell_type": "code",
   "execution_count": 13,
   "id": "a92f7f64",
   "metadata": {},
   "outputs": [
    {
     "data": {
      "text/latex": [
       "$8.8541878 \\times 10^{-12} \\; \\mathrm{\\frac{F}{m}}$"
      ],
      "text/plain": [
       "<<class 'astropy.constants.codata2018.EMCODATA2018'> name='Vacuum electric permittivity' value=8.8541878128e-12 uncertainty=1.3e-21 unit='F / m' reference='CODATA 2018'>"
      ]
     },
     "execution_count": 13,
     "metadata": {},
     "output_type": "execute_result"
    }
   ],
   "source": [
    "const.eps0"
   ]
  },
  {
   "cell_type": "code",
   "execution_count": 26,
   "id": "a2755eba",
   "metadata": {},
   "outputs": [],
   "source": [
    "n0 = 300./(u.cm)**(3)"
   ]
  },
  {
   "cell_type": "code",
   "execution_count": 27,
   "id": "370403f3",
   "metadata": {},
   "outputs": [],
   "source": [
    "w_p = np.sqrt(n0*const.e.si**2 / const.m_e  /const.eps0 )\n",
    "f_p = 1/2/np.pi*w_p"
   ]
  },
  {
   "cell_type": "code",
   "execution_count": 32,
   "id": "ab023a26",
   "metadata": {},
   "outputs": [
    {
     "data": {
      "text/latex": [
       "$0.155515 \\; \\mathrm{MHz}$"
      ],
      "text/plain": [
       "<Quantity 0.155515 MHz>"
      ]
     },
     "execution_count": 32,
     "metadata": {},
     "output_type": "execute_result"
    }
   ],
   "source": [
    "f_p.to('MHz')"
   ]
  },
  {
   "cell_type": "code",
   "execution_count": 35,
   "id": "a957cd5e",
   "metadata": {},
   "outputs": [
    {
     "data": {
      "text/latex": [
       "$2.3070776 \\times 10^{-19} \\; \\mathrm{Fr^{2}}$"
      ],
      "text/plain": [
       "<Quantity 2.30707755e-19 Fr2>"
      ]
     },
     "execution_count": 35,
     "metadata": {},
     "output_type": "execute_result"
    }
   ],
   "source": [
    "const.e.esu**2"
   ]
  },
  {
   "cell_type": "code",
   "execution_count": null,
   "id": "d0d80bd5",
   "metadata": {},
   "outputs": [],
   "source": []
  },
  {
   "cell_type": "code",
   "execution_count": null,
   "id": "70fbf740",
   "metadata": {},
   "outputs": [],
   "source": []
  },
  {
   "cell_type": "code",
   "execution_count": 36,
   "id": "f631478c",
   "metadata": {},
   "outputs": [],
   "source": [
    "w_p = np.sqrt(4*np.pi*n0*const.e.esu**2 / const.m_e )\n",
    "f_p = 1/2/np.pi*w_p"
   ]
  },
  {
   "cell_type": "code",
   "execution_count": 37,
   "id": "117f48da",
   "metadata": {},
   "outputs": [
    {
     "data": {
      "text/latex": [
       "$0.155515 \\; \\mathrm{MHz}$"
      ],
      "text/plain": [
       "<Quantity 0.155515 MHz>"
      ]
     },
     "execution_count": 37,
     "metadata": {},
     "output_type": "execute_result"
    }
   ],
   "source": [
    "f_p.to('MHz')"
   ]
  },
  {
   "cell_type": "code",
   "execution_count": null,
   "id": "b3b43a83",
   "metadata": {},
   "outputs": [],
   "source": []
  }
 ],
 "metadata": {
  "kernelspec": {
   "display_name": "Python 3",
   "language": "python",
   "name": "python3"
  },
  "language_info": {
   "codemirror_mode": {
    "name": "ipython",
    "version": 3
   },
   "file_extension": ".py",
   "mimetype": "text/x-python",
   "name": "python",
   "nbconvert_exporter": "python",
   "pygments_lexer": "ipython3",
   "version": "3.8.8"
  }
 },
 "nbformat": 4,
 "nbformat_minor": 5
}
