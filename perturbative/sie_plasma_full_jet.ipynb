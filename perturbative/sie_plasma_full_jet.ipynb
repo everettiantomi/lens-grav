{
 "cells": [
  {
   "cell_type": "code",
   "execution_count": 1,
   "metadata": {},
   "outputs": [],
   "source": [
    "import numpy as np\n",
    "import matplotlib.pyplot as plt\n",
    "from matplotlib.widgets import Slider, Button\n",
    "from matplotlib import cm\n",
    "from matplotlib.patches import Circle\n",
    "from astropy import units as u\n",
    "from astropy import constants as const\n",
    "from jupyterthemes import jtplot #These two lines can be skipped if you are not using jupyter themes\n",
    "jtplot.reset()\n",
    "\n",
    "from astropy.cosmology import FlatLambdaCDM\n",
    "cosmo = FlatLambdaCDM(H0=67.4, Om0=0.314)\n",
    "\n",
    "import time\n",
    "start_total = time.time()\n",
    "\n",
    "from plasma_jet_class import sieplasmajet\n",
    "\n",
    "import warnings\n",
    "warnings.filterwarnings('ignore')"
   ]
  },
  {
   "cell_type": "code",
   "execution_count": 2,
   "metadata": {},
   "outputs": [
    {
     "name": "stdout",
     "output_type": "stream",
     "text": [
      "Dl:  705.4019455128785 Mpc\n",
      "Ds:  1760.3796178766652 Mpc\n",
      "Dls:  1375.6149203241862 Mpc\n",
      "G:  6.6743e-11 m3 / (kg s2)\n",
      "rho_crit : 1.0483397591328813e-26 kg / m3\n",
      "c_light : 29979245800.0 cm / s\n",
      "r0: 10.0 kpc\n",
      "scale radius (m):  7.705329461274929e+19 m\n",
      "scale radius (kpc):  2.49712721364453 kpc\n",
      "theta_E_g:  0.7301786792241515 arcsec\n",
      "Classic electron radius:  2.817940324670788e-15 m\n"
     ]
    }
   ],
   "source": [
    "zl = 0.2; zs = 1.2\n",
    "\n",
    "Dl = cosmo.angular_diameter_distance(zl)   \n",
    "Ds = cosmo.angular_diameter_distance(zs)    \n",
    "Dls = cosmo.angular_diameter_distance_z1z2(zl, zs)\n",
    "\n",
    "print('Dl: ',Dl); print('Ds: ',Ds); print('Dls: ',Dls)\n",
    "print('G: ',(const.G).value ,(const.G).unit)\n",
    "G = const.G\n",
    "rho_crit = (cosmo.critical_density(zl)).to(u.kg/u.m**3)\n",
    "print('rho_crit :',rho_crit)\n",
    "c_light = (const.c).to(u.cm/u.second)\n",
    "print('c_light :', c_light)\n",
    "\n",
    "#r0 = 10*u.kpc\n",
    "r0 = 10.0*u.kpc\n",
    "#r0 = 0.1*u.kpc\n",
    "print('r0:', r0)\n",
    "pi = np.pi\n",
    "\n",
    "def scale_radius(v,Dl,Ds,Dls):                               #this is e0 in eq 3.42 meneghetti, eq 1 barnacka 2014\n",
    "    return (4.*pi*v**2/c_light**2*Dl*Dls/Ds).decompose()\n",
    "def theta_E_SIS():\n",
    "    'in arcsec'\n",
    "    pre_theta_E = (scale_radius(v,Dl,Ds,Dls)/Dl).decompose()\n",
    "    return pre_theta_E*u.rad.to('arcsec', equivalencies=u.dimensionless_angles())\n",
    "\n",
    "v = 180 *u.km/u.s\n",
    "ss_r = scale_radius(v,Dl,Ds,Dls) \n",
    "print('scale radius (m): ',ss_r)\n",
    "print('scale radius (kpc): ',ss_r.to(u.kpc))\n",
    "print('theta_E_g: ',theta_E_SIS() ,'arcsec')\n",
    "\n",
    "theta_E_g = theta_E_SIS()\n",
    "elipt = eta = 0.3\n",
    "re = (const.e.esu**2/const.m_e/(c_light**2)).decompose()\n",
    "print('Classic electron radius: ',re)"
   ]
  },
  {
   "cell_type": "code",
   "execution_count": 3,
   "metadata": {},
   "outputs": [
    {
     "name": "stdout",
     "output_type": "stream",
     "text": [
      "Angular scale radius (theta_0 = r0/Dl):  2.9240748137875747 arcsec\n"
     ]
    }
   ],
   "source": [
    "theta_0 = (r0/Dl).decompose()*u.rad.to('arcsec', equivalencies=u.dimensionless_angles()) \n",
    "print('Angular scale radius (theta_0 = r0/Dl): ',theta_0, 'arcsec')"
   ]
  },
  {
   "cell_type": "code",
   "execution_count": 4,
   "metadata": {},
   "outputs": [],
   "source": [
    "A = 2.00744300029693\n",
    "B = 1.5887225542022732\n",
    "C = 1.4308204791467736\n",
    "\n",
    "phi = np.linspace(0,2*np.pi, 3000)"
   ]
  },
  {
   "cell_type": "code",
   "execution_count": 5,
   "metadata": {},
   "outputs": [],
   "source": [
    "eta = 0.3\n",
    "nu = 130.0 * u.MHz\n",
    "omega = nu*(1.+zl)*2*np.pi\n",
    "n0 = 300./(u.cm)**(3)\n",
    "\n",
    "psi0_plasma = (A*Dls/Ds/Dl*2*pi*c_light**2/omega**2*re*n0*r0 \\\n",
    "            *(u.rad**2).to('arcsec**2', equivalencies=u.dimensionless_angles()) ).decompose()\n",
    "\n",
    "psi0_plasma_num = psi0_plasma.value\n",
    "theta_E_g = theta_E_SIS().value\n",
    "theta_0_num = theta_0.value"
   ]
  },
  {
   "cell_type": "code",
   "execution_count": 6,
   "metadata": {},
   "outputs": [],
   "source": [
    "radius_3 = 0.5551103128497743\n",
    "\n",
    "n = 200\n",
    "t = np.linspace(0,1.3*radius_3*np.sqrt(2)/2,n)\n",
    "t2 = np.linspace(0,1.3*1.11*radius_3*np.sqrt(2)/2,n)\n",
    "a = 1.0\n",
    "b = 0.9\n",
    "\n",
    "x0 = -0.2*radius_3\n",
    "y0 = -0.185*radius_3\n",
    "\n",
    "x1 = 0.01*radius_3\n",
    "y1 = 0.01*radius_3\n",
    "x_source_1 = t + x0\n",
    "y_source_1 = a*t + y0\n",
    "x_source_2 = t2 + x0 + x1\n",
    "y_source_2 = b*t2 + y0 - y1\n",
    "        \n",
    "mesh_x = []\n",
    "mesh_y = []\n",
    "n1 = 7  #n1 lower implies a higher number of points\n",
    "for j in range(len(x_source_1)):\n",
    "    for i in range(int(j/n1)):\n",
    "        mesh_x.append(x_source_1[j]+j*0.02/n)\n",
    "        z = np.linspace(y_source_2[j]-j*0.02/n, y_source_1[j]+j*0.02/n,int(j/n1))\n",
    "        mesh_y.append(z[i])\n",
    "        \n",
    "mesh__x = []\n",
    "mesh__y = []\n",
    "limit = len(mesh_x) - int(n/n1)\n",
    "for i in range(61):\n",
    "    mesh_x[i] = 0.\n",
    "    mesh_y[i] = 0.\n",
    "for i in range(len(mesh_x)):\n",
    "    if np.sqrt(mesh_x[i]**2+mesh_y[i]**2) < np.sqrt(mesh_x[limit]**2+mesh_y[limit]**2) and np.sqrt(mesh_x[i]**2+mesh_y[i]**2)>0.001:\n",
    "        mesh__x.append(mesh_x[i])\n",
    "        mesh__y.append(mesh_y[i])\n",
    "        \n",
    "mesh_x = mesh__x\n",
    "mesh_y = mesh__y\n",
    "\n",
    "k = np.array(mesh_y).argmin()\n",
    "mesh_x[k] = 0\n",
    "mesh_y[k] = 0\n",
    "\n",
    "# count blobes from smaller to bigger\n",
    "alpha = -(np.pi/4 + 1.5* np.pi/180)\n",
    "\n",
    "rx_1 = 0.017/2\n",
    "ry_1 = 5*rx_1\n",
    "cx_1 = 0.12\n",
    "cy_1 = 0.11+0.01*radius_3\n",
    "rx_2 = 0.022/2\n",
    "ry_2 = 5*rx_1\n",
    "cx_2 = 0.18 \n",
    "cy_2 = 0.167+0.01*radius_3\n",
    "rx_3 = 0.027/2\n",
    "ry_3 = 5*rx_3\n",
    "cx_3 = 0.26\n",
    "cy_3 = 0.245+0.01*radius_3 \n",
    "rx_4 = 0.045/2\n",
    "ry_4 = 4*rx_4\n",
    "cx_4 = 0.37 \n",
    "cy_4 = 0.35+0.01*radius_3   \n",
    "mesh_light = []\n",
    "for i in range(len(mesh_x)):\n",
    "    if ( (mesh_x[i]-cx_1)*np.cos(alpha) + (mesh_y[i]-cy_1)*np.sin(alpha) )**2/rx_1**2 + \\\n",
    "( (mesh_x[i]-cx_1)*np.sin(alpha) - (mesh_y[i]-cy_1)*np.cos(alpha) )**2/ry_1**2 < 1:\n",
    "        r = np.sqrt(((mesh_x[i]-cx_1)*np.cos(alpha) + (mesh_y[i]-cy_1)*np.sin(alpha) )**2/rx_1**2 + \\\n",
    "( (mesh_x[i]-cx_1)*np.sin(alpha) - (mesh_y[i]-cy_1)*np.cos(alpha) )**2/ry_1**2)\n",
    "        light = np.exp(-r**2)\n",
    "        mesh_light.append(light)\n",
    "    elif ( (mesh_x[i]-cx_2)*np.cos(alpha) + (mesh_y[i]-cy_2)*np.sin(alpha) )**2/rx_2**2 + \\\n",
    "( (mesh_x[i]-cx_2)*np.sin(alpha) - (mesh_y[i]-cy_2)*np.cos(alpha) )**2/ry_2**2 < 1:\n",
    "        r = np.sqrt(((mesh_x[i]-cx_2)*np.cos(alpha) + (mesh_y[i]-cy_2)*np.sin(alpha) )**2/rx_2**2 + \\\n",
    "( (mesh_x[i]-cx_2)*np.sin(alpha) - (mesh_y[i]-cy_2)*np.cos(alpha) )**2/ry_2**2)\n",
    "        light = np.exp(-r**2)\n",
    "        mesh_light.append(light)\n",
    "    elif ( (mesh_x[i]-cx_3)*np.cos(alpha) + (mesh_y[i]-cy_3)*np.sin(alpha) )**2/rx_3**2 + \\\n",
    "( (mesh_x[i]-cx_3)*np.sin(alpha) - (mesh_y[i]-cy_3)*np.cos(alpha) )**2/ry_3**2 < 1:\n",
    "        r = np.sqrt(((mesh_x[i]-cx_3)*np.cos(alpha) + (mesh_y[i]-cy_3)*np.sin(alpha) )**2/rx_3**2 + \\\n",
    "( (mesh_x[i]-cx_3)*np.sin(alpha) - (mesh_y[i]-cy_3)*np.cos(alpha) )**2/ry_3**2)\n",
    "        light = np.exp(-r**2)\n",
    "        mesh_light.append(light)\n",
    "    elif ( (mesh_x[i]-cx_4)*np.cos(alpha) + (mesh_y[i]-cy_4)*np.sin(alpha) )**2/rx_4**2 + \\\n",
    "( (mesh_x[i]-cx_4)*np.sin(alpha) - (mesh_y[i]-cy_4)*np.cos(alpha) )**2/ry_4**2 < 1:\n",
    "        r = np.sqrt(((mesh_x[i]-cx_4)*np.cos(alpha) + (mesh_y[i]-cy_4)*np.sin(alpha) )**2/rx_4**2 + \\\n",
    "( (mesh_x[i]-cx_4)*np.sin(alpha) - (mesh_y[i]-cy_4)*np.cos(alpha) )**2/ry_4**2)\n",
    "        light = np.exp(-r**2)\n",
    "        mesh_light.append(light)    \n",
    "    else:\n",
    "        light = 1/np.e\n",
    "        mesh_light.append(light)"
   ]
  },
  {
   "cell_type": "code",
   "execution_count": 7,
   "metadata": {},
   "outputs": [
    {
     "data": {
      "image/png": "[encoded data removed]",
      "text/plain": [
       "<Figure size 800x800 with 1 Axes>"
      ]
     },
     "metadata": {},
     "output_type": "display_data"
    }
   ],
   "source": [
    "fig = plt.figure(figsize=(8,8))\n",
    "ax = fig.gca()\n",
    "ax.set_xticks(np.arange(-2., 2., 1))\n",
    "ax.set_yticks(np.arange(-2., 2., 1))\n",
    "\n",
    "\n",
    "plt.scatter(mesh_x,mesh_y, s =.002, c=mesh_light, cmap='hot',zorder = 2)\n",
    "ax.set_xlabel(r'$\\theta_{x}$ [arcsec]')\n",
    "ax.set_ylabel(r'$\\theta_{y}$ [arcsec]')\n",
    "plt.gca().set_aspect('equal', adjustable='box')\n",
    "ax.set_xlim([-1.5, 1.5])\n",
    "ax.set_ylim([-1.5, 1.5])\n",
    "plt.grid()\n",
    "plt.show()"
   ]
  },
  {
   "cell_type": "code",
   "execution_count": 9,
   "metadata": {},
   "outputs": [
    {
     "name": "stdout",
     "output_type": "stream",
     "text": [
      "1.6575946807861328\n"
     ]
    }
   ],
   "source": [
    "start_jet = time.time()\n",
    "delta_rs = 0.001\n",
    "theta_E = []\n",
    "radii1 = []\n",
    "radii2 = []\n",
    "light = []\n",
    "\n",
    "for x, y, z in zip(mesh_x, mesh_y, mesh_light):\n",
    "    deltab_10 = x\n",
    "    deltab_20 = y\n",
    "    sie_plasma = sieplasmajet(theta_E_g, eta, phi, psi0_plasma_num, theta_0_num, B, C, delta_rs, deltab_10, deltab_20)\n",
    "    theta_E.append(sie_plasma.theta_E)\n",
    "    radii1.append(sie_plasma.delta_r_1)\n",
    "    radii2.append(sie_plasma.delta_r_2)\n",
    "    n = len(sie_plasma.delta_r_1)\n",
    "    temp = np.full(shape = n, fill_value = z)\n",
    "    light.append(temp)\n",
    "end_jet = time.time()\n",
    "\n",
    "print(end_jet-start_jet)\n",
    "    "
   ]
  },
  {
   "cell_type": "code",
   "execution_count": 15,
   "metadata": {
    "scrolled": false
   },
   "outputs": [
    {
     "data": {
      "image/png": "[encoded data removed]",
      "text/plain": [
       "<Figure size 800x800 with 1 Axes>"
      ]
     },
     "metadata": {},
     "output_type": "display_data"
    }
   ],
   "source": [
    "fig = plt.figure(figsize=(8,8))\n",
    "ax = fig.gca()\n",
    "ax.set_xticks(np.arange(-2., 2., 1))\n",
    "ax.set_yticks(np.arange(-2., 2., 1))\n",
    "\n",
    "r1 = np.array(radii1) + theta_E[0]\n",
    "r2 = np.array(radii2) + theta_E[0]\n",
    "\n",
    "plt.scatter(mesh_x,mesh_y, s =.0002, c=mesh_light, cmap='hot',zorder = 2)\n",
    "plt.scatter(r1*np.cos(phi),r1*np.sin(phi),s = .01, zorder = 3 ,  c=light, cmap='hot')\n",
    "#plt.scatter(r2*np.cos(phi),r2*np.sin(phi),s = .01, zorder = 2 ,  c=light, cmap='hot')\n",
    "plt.scatter(theta_E[0]*np.cos(phi),theta_E[0]*np.sin(phi),s = .1,zorder = 1, color = 'grey')\n",
    "ax.set_xlabel(r'$\\theta_{x}$ [arcsec]')\n",
    "ax.set_ylabel(r'$\\theta_{y}$ [arcsec]')\n",
    "plt.gca().set_aspect('equal', adjustable='box')\n",
    "ax.set_xlim([-1.5, 1.5])\n",
    "ax.set_ylim([-1.5, 1.5])\n",
    "plt.grid()\n",
    "plt.show()"
   ]
  },
  {
   "cell_type": "code",
   "execution_count": null,
   "metadata": {},
   "outputs": [],
   "source": []
  }
 ],
 "metadata": {
  "kernelspec": {
   "display_name": "Python 3",
   "language": "python",
   "name": "python3"
  },
  "language_info": {
   "codemirror_mode": {
    "name": "ipython",
    "version": 3
   },
   "file_extension": ".py",
   "mimetype": "text/x-python",
   "name": "python",
   "nbconvert_exporter": "python",
   "pygments_lexer": "ipython3",
   "version": "3.8.8"
  }
 },
 "nbformat": 4,
 "nbformat_minor": 4
}
